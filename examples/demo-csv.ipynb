{
 "cells": [
  {
   "cell_type": "markdown",
   "metadata": {},
   "source": [
    "# `virtual`: CSV Demo"
   ]
  },
  {
   "cell_type": "code",
   "execution_count": 1,
   "metadata": {},
   "outputs": [],
   "source": [
    "%reload_ext autoreload\n",
    "%autoreload 2\n",
    "\n",
    "import virtual\n",
    "\n",
    "csv_filepath = 'example.csv'"
   ]
  },
  {
   "cell_type": "markdown",
   "metadata": {},
   "source": [
    "### One-Shot Table Compression"
   ]
  },
  {
   "cell_type": "code",
   "execution_count": 2,
   "metadata": {},
   "outputs": [
    {
     "name": "stdout",
     "output_type": "stream",
     "text": [
      "Schema\n",
      "[{'name': 'Earnings Year', 'type': 'BIGINT', 'null': {'any': False, 'all': False}, 'scale': 0, 'precision': 0}, {'name': 'Department', 'type': 'VARCHAR', 'null': {'any': False, 'all': False}, 'scale': 0, 'precision': 0}, {'name': 'Employee Name', 'type': 'VARCHAR', 'null': {'any': False, 'all': False}, 'scale': 0, 'precision': 0}, {'name': 'Position Title', 'type': 'VARCHAR', 'null': {'any': False, 'all': False}, 'scale': 0, 'precision': 0}, {'name': 'Union Name', 'type': 'VARCHAR', 'null': {'any': False, 'all': False}, 'scale': 0, 'precision': 0}, {'name': 'Regular or Temporary', 'type': 'VARCHAR', 'null': {'any': False, 'all': False}, 'scale': 0, 'precision': 0}, {'name': 'Full or Part Time', 'type': 'VARCHAR', 'null': {'any': False, 'all': False}, 'scale': 0, 'precision': 0}, {'name': 'Regular Earnings', 'type': 'DOUBLE', 'null': {'any': False, 'all': False}, 'scale': 2, 'precision': 8}, {'name': 'Overtime Earnings', 'type': 'DOUBLE', 'null': {'any': False, 'all': False}, 'scale': 2, 'precision': 7}, {'name': 'Total Earnings', 'type': 'DOUBLE', 'null': {'any': False, 'all': False}, 'scale': 2, 'precision': 8}]\n",
      "[{'name': 'Earnings Year', 'type': 'BIGINT', 'null': {'any': False, 'all': False}, 'scale': 0, 'precision': 0}, {'name': 'Department', 'type': 'VARCHAR', 'null': {'any': False, 'all': False}, 'scale': 0, 'precision': 0}, {'name': 'Employee Name', 'type': 'VARCHAR', 'null': {'any': False, 'all': False}, 'scale': 0, 'precision': 0}, {'name': 'Position Title', 'type': 'VARCHAR', 'null': {'any': False, 'all': False}, 'scale': 0, 'precision': 0}, {'name': 'Union Name', 'type': 'VARCHAR', 'null': {'any': False, 'all': False}, 'scale': 0, 'precision': 0}, {'name': 'Regular or Temporary', 'type': 'VARCHAR', 'null': {'any': False, 'all': False}, 'scale': 0, 'precision': 0}, {'name': 'Full or Part Time', 'type': 'VARCHAR', 'null': {'any': False, 'all': False}, 'scale': 0, 'precision': 0}, {'name': 'Regular Earnings', 'type': 'DOUBLE', 'null': {'any': False, 'all': False}, 'scale': 2, 'precision': 8}, {'name': 'Overtime Earnings', 'type': 'DOUBLE', 'null': {'any': False, 'all': False}, 'scale': 2, 'precision': 7}, {'name': 'Total Earnings', 'type': 'DOUBLE', 'null': {'any': False, 'all': False}, 'scale': 2, 'precision': 8}]\n",
      "train\n",
      "start virtualize\n",
      "[{'name': 'Earnings Year', 'type': 'BIGINT'}, {'name': 'Department', 'type': 'VARCHAR'}, {'name': 'Employee Name', 'type': 'VARCHAR'}, {'name': 'Position Title', 'type': 'VARCHAR'}, {'name': 'Union Name', 'type': 'VARCHAR'}, {'name': 'Regular or Temporary', 'type': 'VARCHAR'}, {'name': 'Full or Part Time', 'type': 'VARCHAR'}, {'name': 'Regular Earnings', 'type': 'DOUBLE'}, {'name': 'Overtime Earnings', 'type': 'DOUBLE'}, {'name': 'Total Earnings', 'type': 'DOUBLE'}]\n",
      "{'date': [], 'string': ['Department', 'Employee Name', 'Position Title', 'Union Name', 'Regular or Temporary', 'Full or Part Time'], 'boolean': []}\n",
      "['Earnings Year', 'Department', 'Employee Name', 'Position Title', 'Union Name', 'Regular or Temporary', 'Full or Part Time', 'Regular Earnings', 'Overtime Earnings', 'Total Earnings']\n",
      "[0, 7, 8, 9]\n",
      "(999, 4)\n",
      "We found 4 function(s) in your table.\n",
      "[{'target_index': 0, 'target_name': 'Earnings Year', 'target_stats': {'mean': np.float64(2019.6546546546547), 'max': 2022.0, 'min': 2010.0}, 'models': {'sparse-lr': {'mse': 1.8555809279793825, 'intercept': np.float64(2019.5465662140489), 'coeffs': [{'col-index': 8, 'col-name': 'Overtime Earnings', 'coeff': np.float64(3.558039090430056e-05)}, {'col-index': 9, 'col-name': 'Total Earnings', 'coeff': np.float64(2.4922623337265483e-06)}]}}}, {'target_index': 7, 'target_name': 'Regular Earnings', 'target_stats': {'mean': np.float64(31553.40951951952), 'max': 202038.13, 'min': 0.78}, 'models': {'sparse-lr': {'mse': 3.160278351151207e-11, 'intercept': np.float64(1.0913936421275139e-11), 'coeffs': [{'col-index': 8, 'col-name': 'Overtime Earnings', 'coeff': np.float64(-0.9999999999999851)}, {'col-index': 9, 'col-name': 'Total Earnings', 'coeff': np.float64(0.9999999999999993)}]}}}, {'target_index': 8, 'target_name': 'Overtime Earnings', 'target_stats': {'mean': np.float64(773.4965665665667), 'max': 21905.28, 'min': 0.0}, 'models': {'sparse-lr': {'mse': 6.902824566617844e-12, 'intercept': np.float64(8.526512829121202e-12), 'coeffs': [{'col-index': 7, 'col-name': 'Regular Earnings', 'coeff': np.float64(-1.0000000000000013)}, {'col-index': 9, 'col-name': 'Total Earnings', 'coeff': np.float64(1.000000000000001)}]}}}, {'target_index': 9, 'target_name': 'Total Earnings', 'target_stats': {'mean': np.float64(32326.906086086085), 'max': 202038.13, 'min': 0.78}, 'models': {'sparse-lr': {'mse': 1.277106715403009e-11, 'intercept': np.float64(-1.4551915228366852e-11), 'coeffs': [{'col-index': 7, 'col-name': 'Regular Earnings', 'coeff': np.float64(1.0000000000000004)}, {'col-index': 8, 'col-name': 'Overtime Earnings', 'coeff': np.float64(1.0000000000000007)}]}}}]\n",
      "[{'target_index': 0, 'target_name': 'Earnings Year', 'target_stats': {'mean': np.float64(2019.6546546546547), 'max': 2022.0, 'min': 2010.0}, 'models': {'sparse-lr': {'mse': 1.8555809279793825, 'intercept': np.float64(2019.5465662140489), 'coeffs': [{'col-index': 8, 'col-name': 'Overtime Earnings', 'coeff': np.float64(3.558039090430056e-05)}, {'col-index': 9, 'col-name': 'Total Earnings', 'coeff': np.float64(2.4922623337265483e-06)}]}}}, {'target_index': 7, 'target_name': 'Regular Earnings', 'target_stats': {'mean': np.float64(31553.40951951952), 'max': 202038.13, 'min': 0.78}, 'models': {'sparse-lr': {'mse': 3.160278351151207e-11, 'intercept': np.float64(1.0913936421275139e-11), 'coeffs': [{'col-index': 8, 'col-name': 'Overtime Earnings', 'coeff': np.float64(-0.9999999999999851)}, {'col-index': 9, 'col-name': 'Total Earnings', 'coeff': np.float64(0.9999999999999993)}]}}}, {'target_index': 8, 'target_name': 'Overtime Earnings', 'target_stats': {'mean': np.float64(773.4965665665667), 'max': 21905.28, 'min': 0.0}, 'models': {'sparse-lr': {'mse': 6.902824566617844e-12, 'intercept': np.float64(8.526512829121202e-12), 'coeffs': [{'col-index': 7, 'col-name': 'Regular Earnings', 'coeff': np.float64(-1.0000000000000013)}, {'col-index': 9, 'col-name': 'Total Earnings', 'coeff': np.float64(1.000000000000001)}]}}}, {'target_index': 9, 'target_name': 'Total Earnings', 'target_stats': {'mean': np.float64(32326.906086086085), 'max': 202038.13, 'min': 0.78}, 'models': {'sparse-lr': {'mse': 1.277106715403009e-11, 'intercept': np.float64(-1.4551915228366852e-11), 'coeffs': [{'col-index': 7, 'col-name': 'Regular Earnings', 'coeff': np.float64(1.0000000000000004)}, {'col-index': 8, 'col-name': 'Overtime Earnings', 'coeff': np.float64(1.0000000000000007)}]}}}]\n",
      "                 0                         1                     2  \\\n",
      "0    Earnings Year                Department         Employee Name   \n",
      "1             2010                       Law         Allen,Marcy E   \n",
      "2             2010     Health-Administration       Peeling,Carol A   \n",
      "3             2010     Health-Administration      Picciano,Cindy L   \n",
      "4             2010     Health-Administration      Picciano,Cindy L   \n",
      "..             ...                       ...                   ...   \n",
      "995           2020  Probation-Administration      Foulke,Melissa G   \n",
      "996           2020  Probation-Administration        Gale,Lindsey E   \n",
      "997           2020  Probation-Administration  Garren,Jennifer Lynn   \n",
      "998           2020  Probation-Administration        Gill,Jeffrey M   \n",
      "999           2020  Probation-Administration       Green,William M   \n",
      "\n",
      "                               3                              4  \\\n",
      "0                 Position Title                     Union Name   \n",
      "1                      Secretary   Excluded Personnel (Admin I)   \n",
      "2       Spvg Public Health Nurse  Br Admin & Professional Assoc   \n",
      "3                  Sr Accountant      Non Union Equivalent - 07   \n",
      "4                  Sr Accountant  Br Admin & Professional Assoc   \n",
      "..                           ...                            ...   \n",
      "995       Probation Supervisor 1  Br Admin & Professional Assoc   \n",
      "996          Keyboard Specialist     CSEA Local 6150, Full-time   \n",
      "997          Keyboard Specialist     CSEA Local 6150, Full-time   \n",
      "998       Probation Supervisor 1  Br Admin & Professional Assoc   \n",
      "999  Probation Off 2/Sr Prob Off     CSEA Local 6150, Full-time   \n",
      "\n",
      "                        5                  6                 7  \\\n",
      "0    Regular or Temporary  Full or Part Time  Regular Earnings   \n",
      "1                       R                  F          38578.75   \n",
      "2                       R                  P          45259.79   \n",
      "3                       T                  P           1058.94   \n",
      "4                       R                  F          43137.16   \n",
      "..                    ...                ...               ...   \n",
      "995                     R                  F          69447.10   \n",
      "996                     R                  F          31920.79   \n",
      "997                     R                  F          25085.93   \n",
      "998                     R                  F          63575.63   \n",
      "999                     R                  F          62013.04   \n",
      "\n",
      "                     8               9  \n",
      "0    Overtime Earnings  Total Earnings  \n",
      "1                 0.00        38578.75  \n",
      "2                 0.00        45259.79  \n",
      "3                 0.00         1058.94  \n",
      "4                 7.67        43144.83  \n",
      "..                 ...             ...  \n",
      "995              67.07        69514.17  \n",
      "996               0.00        31920.79  \n",
      "997               0.00        25085.93  \n",
      "998             247.39        63823.02  \n",
      "999             285.13        62298.17  \n",
      "\n",
      "[1000 rows x 10 columns]\n",
      "[{'target_index': 0, 'target_name': 'Earnings Year', 'target_stats': {'mean': np.float64(2019.6546546546547), 'max': 2022.0, 'min': 2010.0}, 'models': {'sparse-lr': {'mse': 1.8555809279793825, 'intercept': np.float64(2019.5465662140489), 'coeffs': [{'col-index': 8, 'col-name': 'Overtime Earnings', 'coeff': np.float64(3.558039090430056e-05)}, {'col-index': 9, 'col-name': 'Total Earnings', 'coeff': np.float64(2.4922623337265483e-06)}]}}, 'sizes': {'sparse-lr': {'base': 595, 'virtual': 620}}}, {'target_index': 7, 'target_name': 'Regular Earnings', 'target_stats': {'mean': np.float64(31553.40951951952), 'max': 202038.13, 'min': 0.78}, 'models': {'sparse-lr': {'mse': 3.160278351151207e-11, 'intercept': np.float64(1.0913936421275139e-11), 'coeffs': [{'col-index': 8, 'col-name': 'Overtime Earnings', 'coeff': np.float64(-0.9999999999999851)}, {'col-index': 9, 'col-name': 'Total Earnings', 'coeff': np.float64(0.9999999999999993)}]}}, 'sizes': {'sparse-lr': {'base': 7440, 'virtual': 544}}}, {'target_index': 8, 'target_name': 'Overtime Earnings', 'target_stats': {'mean': np.float64(773.4965665665667), 'max': 21905.28, 'min': 0.0}, 'models': {'sparse-lr': {'mse': 6.902824566617844e-12, 'intercept': np.float64(8.526512829121202e-12), 'coeffs': [{'col-index': 7, 'col-name': 'Regular Earnings', 'coeff': np.float64(-1.0000000000000013)}, {'col-index': 9, 'col-name': 'Total Earnings', 'coeff': np.float64(1.000000000000001)}]}}, 'sizes': {'sparse-lr': {'base': 2855, 'virtual': 546}}}, {'target_index': 9, 'target_name': 'Total Earnings', 'target_stats': {'mean': np.float64(32326.906086086085), 'max': 202038.13, 'min': 0.78}, 'models': {'sparse-lr': {'mse': 1.277106715403009e-11, 'intercept': np.float64(-1.4551915228366852e-11), 'coeffs': [{'col-index': 7, 'col-name': 'Regular Earnings', 'coeff': np.float64(1.0000000000000004)}, {'col-index': 8, 'col-name': 'Overtime Earnings', 'coeff': np.float64(1.0000000000000007)}]}}, 'sizes': {'sparse-lr': {'base': 7463, 'virtual': 540}}}]\n",
      "{'greedy': {'obj-value': 6923, 'chosen': [{'target_index': 9, 'target_name': 'Total Earnings', 'model_type': 'sparse-lr', 'sparse-lr': {'mse': 1.277106715403009e-11, 'intercept': np.float64(-1.4551915228366852e-11), 'coeffs': [{'col-index': 7, 'col-name': 'Regular Earnings', 'coeff': np.float64(1.0000000000000004)}, {'col-index': 8, 'col-name': 'Overtime Earnings', 'coeff': np.float64(1.0000000000000007)}]}, 'left': [7, 8], 'right': 9, 'gain': 6923}], 'time': 1.1920928955078125e-05}}\n"
     ]
    }
   ],
   "source": [
    "# Save in Parquet format.\n",
    "virtual.to_format(csv_filepath, 'example_virtual.csv', model_types=['sparse-lr'], prefix='demo-debug/')"
   ]
  },
  {
   "cell_type": "markdown",
   "metadata": {},
   "source": [
    "### Compare to vanilla CSV"
   ]
  },
  {
   "cell_type": "code",
   "execution_count": 3,
   "metadata": {},
   "outputs": [
    {
     "name": "stdout",
     "output_type": "stream",
     "text": [
      "CSV: 122375 bytes\n",
      "Virtual: 112833 bytes\n"
     ]
    }
   ],
   "source": [
    "import os\n",
    "\n",
    "print(f'CSV: {os.path.getsize('example.csv')} bytes')\n",
    "print(f'Virtual: {os.path.getsize('example_virtual.csv')} bytes')"
   ]
  },
  {
   "cell_type": "markdown",
   "metadata": {},
   "source": [
    "### Exploring functions"
   ]
  },
  {
   "cell_type": "code",
   "execution_count": 4,
   "metadata": {},
   "outputs": [
    {
     "name": "stdout",
     "output_type": "stream",
     "text": [
      "start virtualize\n",
      "[{'name': 'Earnings Year', 'type': 'BIGINT'}, {'name': 'Department', 'type': 'VARCHAR'}, {'name': 'Employee Name', 'type': 'VARCHAR'}, {'name': 'Position Title', 'type': 'VARCHAR'}, {'name': 'Union Name', 'type': 'VARCHAR'}, {'name': 'Regular or Temporary', 'type': 'VARCHAR'}, {'name': 'Full or Part Time', 'type': 'VARCHAR'}, {'name': 'Regular Earnings', 'type': 'DOUBLE'}, {'name': 'Overtime Earnings', 'type': 'DOUBLE'}, {'name': 'Total Earnings', 'type': 'DOUBLE'}]\n",
      "{'date': [], 'string': ['Department', 'Employee Name', 'Position Title', 'Union Name', 'Regular or Temporary', 'Full or Part Time'], 'boolean': []}\n",
      "['Earnings Year', 'Department', 'Employee Name', 'Position Title', 'Union Name', 'Regular or Temporary', 'Full or Part Time', 'Regular Earnings', 'Overtime Earnings', 'Total Earnings']\n",
      "[0, 7, 8, 9]\n",
      "(999, 4)\n",
      "We found 4 function(s) in your table.\n",
      "[{'target_index': 0, 'target_name': 'Earnings Year', 'target_stats': {'mean': np.float64(2019.6546546546547), 'max': 2022.0, 'min': 2010.0}, 'models': {'sparse-lr': {'mse': 1.8555809279793825, 'intercept': np.float64(2019.5465662140489), 'coeffs': [{'col-index': 8, 'col-name': 'Overtime Earnings', 'coeff': np.float64(3.558039090430056e-05)}, {'col-index': 9, 'col-name': 'Total Earnings', 'coeff': np.float64(2.4922623337265483e-06)}]}}}, {'target_index': 7, 'target_name': 'Regular Earnings', 'target_stats': {'mean': np.float64(31553.40951951952), 'max': 202038.13, 'min': 0.78}, 'models': {'sparse-lr': {'mse': 3.160278351151207e-11, 'intercept': np.float64(1.0913936421275139e-11), 'coeffs': [{'col-index': 8, 'col-name': 'Overtime Earnings', 'coeff': np.float64(-0.9999999999999851)}, {'col-index': 9, 'col-name': 'Total Earnings', 'coeff': np.float64(0.9999999999999993)}]}}}, {'target_index': 8, 'target_name': 'Overtime Earnings', 'target_stats': {'mean': np.float64(773.4965665665667), 'max': 21905.28, 'min': 0.0}, 'models': {'sparse-lr': {'mse': 6.902824566617844e-12, 'intercept': np.float64(8.526512829121202e-12), 'coeffs': [{'col-index': 7, 'col-name': 'Regular Earnings', 'coeff': np.float64(-1.0000000000000013)}, {'col-index': 9, 'col-name': 'Total Earnings', 'coeff': np.float64(1.000000000000001)}]}}}, {'target_index': 9, 'target_name': 'Total Earnings', 'target_stats': {'mean': np.float64(32326.906086086085), 'max': 202038.13, 'min': 0.78}, 'models': {'sparse-lr': {'mse': 1.277106715403009e-11, 'intercept': np.float64(-1.4551915228366852e-11), 'coeffs': [{'col-index': 7, 'col-name': 'Regular Earnings', 'coeff': np.float64(1.0000000000000004)}, {'col-index': 8, 'col-name': 'Overtime Earnings', 'coeff': np.float64(1.0000000000000007)}]}}}]\n"
     ]
    },
    {
     "data": {
      "text/plain": [
       "[{'target_index': 0,\n",
       "  'target_name': 'Earnings Year',\n",
       "  'target_stats': {'mean': np.float64(2019.6546546546547),\n",
       "   'max': 2022.0,\n",
       "   'min': 2010.0},\n",
       "  'models': {'sparse-lr': {'mse': 1.8555809279793825,\n",
       "    'intercept': np.float64(2019.5465662140489),\n",
       "    'coeffs': [{'col-index': 8,\n",
       "      'col-name': 'Overtime Earnings',\n",
       "      'coeff': np.float64(3.558039090430056e-05)},\n",
       "     {'col-index': 9,\n",
       "      'col-name': 'Total Earnings',\n",
       "      'coeff': np.float64(2.4922623337265483e-06)}]}}},\n",
       " {'target_index': 7,\n",
       "  'target_name': 'Regular Earnings',\n",
       "  'target_stats': {'mean': np.float64(31553.40951951952),\n",
       "   'max': 202038.13,\n",
       "   'min': 0.78},\n",
       "  'models': {'sparse-lr': {'mse': 3.160278351151207e-11,\n",
       "    'intercept': np.float64(1.0913936421275139e-11),\n",
       "    'coeffs': [{'col-index': 8,\n",
       "      'col-name': 'Overtime Earnings',\n",
       "      'coeff': np.float64(-0.9999999999999851)},\n",
       "     {'col-index': 9,\n",
       "      'col-name': 'Total Earnings',\n",
       "      'coeff': np.float64(0.9999999999999993)}]}}},\n",
       " {'target_index': 8,\n",
       "  'target_name': 'Overtime Earnings',\n",
       "  'target_stats': {'mean': np.float64(773.4965665665667),\n",
       "   'max': 21905.28,\n",
       "   'min': 0.0},\n",
       "  'models': {'sparse-lr': {'mse': 6.902824566617844e-12,\n",
       "    'intercept': np.float64(8.526512829121202e-12),\n",
       "    'coeffs': [{'col-index': 7,\n",
       "      'col-name': 'Regular Earnings',\n",
       "      'coeff': np.float64(-1.0000000000000013)},\n",
       "     {'col-index': 9,\n",
       "      'col-name': 'Total Earnings',\n",
       "      'coeff': np.float64(1.000000000000001)}]}}},\n",
       " {'target_index': 9,\n",
       "  'target_name': 'Total Earnings',\n",
       "  'target_stats': {'mean': np.float64(32326.906086086085),\n",
       "   'max': 202038.13,\n",
       "   'min': 0.78},\n",
       "  'models': {'sparse-lr': {'mse': 1.277106715403009e-11,\n",
       "    'intercept': np.float64(-1.4551915228366852e-11),\n",
       "    'coeffs': [{'col-index': 7,\n",
       "      'col-name': 'Regular Earnings',\n",
       "      'coeff': np.float64(1.0000000000000004)},\n",
       "     {'col-index': 8,\n",
       "      'col-name': 'Overtime Earnings',\n",
       "      'coeff': np.float64(1.0000000000000007)}]}}}]"
      ]
     },
     "execution_count": 4,
     "metadata": {},
     "output_type": "execute_result"
    }
   ],
   "source": [
    "# Drill the functions.\n",
    "functions = virtual.train(csv_filepath, model_types=['sparse-lr'], prefix='./demo-debug/')\n",
    "\n",
    "functions"
   ]
  },
  {
   "cell_type": "markdown",
   "metadata": {},
   "source": [
    "### Compress with functions"
   ]
  },
  {
   "cell_type": "code",
   "execution_count": 5,
   "metadata": {},
   "outputs": [
    {
     "name": "stdout",
     "output_type": "stream",
     "text": [
      "Schema\n",
      "[{'name': 'Earnings Year', 'type': 'BIGINT', 'null': {'any': False, 'all': False}, 'scale': 0, 'precision': 0}, {'name': 'Department', 'type': 'VARCHAR', 'null': {'any': False, 'all': False}, 'scale': 0, 'precision': 0}, {'name': 'Employee Name', 'type': 'VARCHAR', 'null': {'any': False, 'all': False}, 'scale': 0, 'precision': 0}, {'name': 'Position Title', 'type': 'VARCHAR', 'null': {'any': False, 'all': False}, 'scale': 0, 'precision': 0}, {'name': 'Union Name', 'type': 'VARCHAR', 'null': {'any': False, 'all': False}, 'scale': 0, 'precision': 0}, {'name': 'Regular or Temporary', 'type': 'VARCHAR', 'null': {'any': False, 'all': False}, 'scale': 0, 'precision': 0}, {'name': 'Full or Part Time', 'type': 'VARCHAR', 'null': {'any': False, 'all': False}, 'scale': 0, 'precision': 0}, {'name': 'Regular Earnings', 'type': 'DOUBLE', 'null': {'any': False, 'all': False}, 'scale': 2, 'precision': 8}, {'name': 'Overtime Earnings', 'type': 'DOUBLE', 'null': {'any': False, 'all': False}, 'scale': 2, 'precision': 7}, {'name': 'Total Earnings', 'type': 'DOUBLE', 'null': {'any': False, 'all': False}, 'scale': 2, 'precision': 8}]\n",
      "train\n",
      "                 0                         1                     2  \\\n",
      "0    Earnings Year                Department         Employee Name   \n",
      "1             2010                       Law         Allen,Marcy E   \n",
      "2             2010     Health-Administration       Peeling,Carol A   \n",
      "3             2010     Health-Administration      Picciano,Cindy L   \n",
      "4             2010     Health-Administration      Picciano,Cindy L   \n",
      "..             ...                       ...                   ...   \n",
      "995           2020  Probation-Administration      Foulke,Melissa G   \n",
      "996           2020  Probation-Administration        Gale,Lindsey E   \n",
      "997           2020  Probation-Administration  Garren,Jennifer Lynn   \n",
      "998           2020  Probation-Administration        Gill,Jeffrey M   \n",
      "999           2020  Probation-Administration       Green,William M   \n",
      "\n",
      "                               3                              4  \\\n",
      "0                 Position Title                     Union Name   \n",
      "1                      Secretary   Excluded Personnel (Admin I)   \n",
      "2       Spvg Public Health Nurse  Br Admin & Professional Assoc   \n",
      "3                  Sr Accountant      Non Union Equivalent - 07   \n",
      "4                  Sr Accountant  Br Admin & Professional Assoc   \n",
      "..                           ...                            ...   \n",
      "995       Probation Supervisor 1  Br Admin & Professional Assoc   \n",
      "996          Keyboard Specialist     CSEA Local 6150, Full-time   \n",
      "997          Keyboard Specialist     CSEA Local 6150, Full-time   \n",
      "998       Probation Supervisor 1  Br Admin & Professional Assoc   \n",
      "999  Probation Off 2/Sr Prob Off     CSEA Local 6150, Full-time   \n",
      "\n",
      "                        5                  6                 7  \\\n",
      "0    Regular or Temporary  Full or Part Time  Regular Earnings   \n",
      "1                       R                  F          38578.75   \n",
      "2                       R                  P          45259.79   \n",
      "3                       T                  P           1058.94   \n",
      "4                       R                  F          43137.16   \n",
      "..                    ...                ...               ...   \n",
      "995                     R                  F          69447.10   \n",
      "996                     R                  F          31920.79   \n",
      "997                     R                  F          25085.93   \n",
      "998                     R                  F          63575.63   \n",
      "999                     R                  F          62013.04   \n",
      "\n",
      "                     8               9  \n",
      "0    Overtime Earnings  Total Earnings  \n",
      "1                 0.00        38578.75  \n",
      "2                 0.00        45259.79  \n",
      "3                 0.00         1058.94  \n",
      "4                 7.67        43144.83  \n",
      "..                 ...             ...  \n",
      "995              67.07        69514.17  \n",
      "996               0.00        31920.79  \n",
      "997               0.00        25085.93  \n",
      "998             247.39        63823.02  \n",
      "999             285.13        62298.17  \n",
      "\n",
      "[1000 rows x 10 columns]\n"
     ]
    }
   ],
   "source": [
    "# Use them for compression.\n",
    "virtual.to_format(csv_filepath, 'example_virtual.csv', functions)"
   ]
  },
  {
   "cell_type": "markdown",
   "metadata": {},
   "source": [
    "### Query the vanilla CSV file"
   ]
  },
  {
   "cell_type": "code",
   "execution_count": 6,
   "metadata": {},
   "outputs": [
    {
     "data": {
      "text/html": [
       "<div>\n",
       "<style scoped>\n",
       "    .dataframe tbody tr th:only-of-type {\n",
       "        vertical-align: middle;\n",
       "    }\n",
       "\n",
       "    .dataframe tbody tr th {\n",
       "        vertical-align: top;\n",
       "    }\n",
       "\n",
       "    .dataframe thead th {\n",
       "        text-align: right;\n",
       "    }\n",
       "</style>\n",
       "<table border=\"1\" class=\"dataframe\">\n",
       "  <thead>\n",
       "    <tr style=\"text-align: right;\">\n",
       "      <th></th>\n",
       "      <th>avg(\"Total Earnings\")</th>\n",
       "    </tr>\n",
       "  </thead>\n",
       "  <tbody>\n",
       "    <tr>\n",
       "      <th>0</th>\n",
       "      <td>32326.906086</td>\n",
       "    </tr>\n",
       "  </tbody>\n",
       "</table>\n",
       "</div>"
      ],
      "text/plain": [
       "   avg(\"Total Earnings\")\n",
       "0           32326.906086"
      ]
     },
     "execution_count": 6,
     "metadata": {},
     "output_type": "execute_result"
    }
   ],
   "source": [
    "import duckdb\n",
    "\n",
    "duckdb.sql('select avg(\"Total Earnings\") from read_csv(\"example.csv\")').df()"
   ]
  },
  {
   "cell_type": "markdown",
   "metadata": {},
   "source": [
    "### Query the virtualized CSV file"
   ]
  },
  {
   "cell_type": "code",
   "execution_count": 7,
   "metadata": {},
   "outputs": [
    {
     "data": {
      "text/html": [
       "<div>\n",
       "<style scoped>\n",
       "    .dataframe tbody tr th:only-of-type {\n",
       "        vertical-align: middle;\n",
       "    }\n",
       "\n",
       "    .dataframe tbody tr th {\n",
       "        vertical-align: top;\n",
       "    }\n",
       "\n",
       "    .dataframe thead th {\n",
       "        text-align: right;\n",
       "    }\n",
       "</style>\n",
       "<table border=\"1\" class=\"dataframe\">\n",
       "  <thead>\n",
       "    <tr style=\"text-align: right;\">\n",
       "      <th></th>\n",
       "      <th>avg(\"Total Earnings\")</th>\n",
       "    </tr>\n",
       "  </thead>\n",
       "  <tbody>\n",
       "    <tr>\n",
       "      <th>0</th>\n",
       "      <td>32326.906086</td>\n",
       "    </tr>\n",
       "  </tbody>\n",
       "</table>\n",
       "</div>"
      ],
      "text/plain": [
       "   avg(\"Total Earnings\")\n",
       "0           32326.906086"
      ]
     },
     "execution_count": 7,
     "metadata": {},
     "output_type": "execute_result"
    }
   ],
   "source": [
    "virtual.query(\n",
    "  'select avg(\"Total Earnings\") from read_csv(\"example_virtual.csv\")',\n",
    "  engine = 'duckdb'\n",
    ")"
   ]
  }
 ],
 "metadata": {
  "kernelspec": {
   "display_name": ".venv",
   "language": "python",
   "name": "python3"
  },
  "language_info": {
   "codemirror_mode": {
    "name": "ipython",
    "version": 3
   },
   "file_extension": ".py",
   "mimetype": "text/x-python",
   "name": "python",
   "nbconvert_exporter": "python",
   "pygments_lexer": "ipython3",
   "version": "3.13.0"
  }
 },
 "nbformat": 4,
 "nbformat_minor": 2
}
