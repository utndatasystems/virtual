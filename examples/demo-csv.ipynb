{
 "cells": [
  {
   "cell_type": "markdown",
   "metadata": {},
   "source": [
    "# `virtual`: CSV Demo"
   ]
  },
  {
   "cell_type": "code",
   "execution_count": 1,
   "metadata": {},
   "outputs": [],
   "source": [
    "%reload_ext autoreload\n",
    "%autoreload 2\n",
    "\n",
    "import virtual\n",
    "\n",
    "csv_filepath = 'example.csv'"
   ]
  },
  {
   "cell_type": "markdown",
   "metadata": {},
   "source": [
    "### One-shot table virtualization"
   ]
  },
  {
   "cell_type": "code",
   "execution_count": 2,
   "metadata": {},
   "outputs": [
    {
     "name": "stdout",
     "output_type": "stream",
     "text": [
      "Running schema inference..\n",
      "Drilling functions..\n",
      "We found 2 function candidate(s) in your table.\n",
      "Let's see how many benefit virtualization..\n",
      "It seems that 1 function(s) can indeed be used for virtualization.\n",
      "Creating the virtual file..\n",
      "Done.\n"
     ]
    }
   ],
   "source": [
    "# Save in Parquet format.\n",
    "virtual.to_format(csv_filepath, 'example_virtual.csv', prefix='demo-debug/')"
   ]
  },
  {
   "cell_type": "markdown",
   "metadata": {},
   "source": [
    "### Compare to vanilla CSV"
   ]
  },
  {
   "cell_type": "code",
   "execution_count": 3,
   "metadata": {},
   "outputs": [
    {
     "name": "stdout",
     "output_type": "stream",
     "text": [
      "[example] CSV: 122375 bytes\n",
      "[example] Virtual: 112833 bytes\n"
     ]
    }
   ],
   "source": [
    "import os\n",
    "\n",
    "table = os.path.splitext(os.path.basename(csv_filepath))[0]\n",
    "print(f'[{table}] CSV: {os.path.getsize('example.csv')} bytes')\n",
    "print(f'[{table}] Virtual: {os.path.getsize('example_virtual.csv')} bytes')"
   ]
  },
  {
   "cell_type": "markdown",
   "metadata": {},
   "source": [
    "### Exploring functions"
   ]
  },
  {
   "cell_type": "code",
   "execution_count": 4,
   "metadata": {},
   "outputs": [
    {
     "name": "stdout",
     "output_type": "stream",
     "text": [
      "Drilling functions..\n",
      "We found 2 function candidate(s) in your table.\n"
     ]
    },
    {
     "data": {
      "text/plain": [
       "[{'target-index': 0,\n",
       "  'target-name': 'Earnings Year',\n",
       "  'target-stats': {'mean': np.float64(2019.6546546546547),\n",
       "   'max': 2022.0,\n",
       "   'min': 2010.0},\n",
       "  'models': {'sparse-lr': {'mse': 1.8572998848441455,\n",
       "    'intercept': np.float64(2019.553519802266),\n",
       "    'coeffs': [{'col-index': 7,\n",
       "      'col-name': 'Regular Earnings',\n",
       "      'coeff': np.float64(3.205195696083787e-06)}]}}},\n",
       " {'target-index': 9,\n",
       "  'target-name': 'Total Earnings',\n",
       "  'target-stats': {'mean': np.float64(32326.906086086085),\n",
       "   'max': 202038.13,\n",
       "   'min': 0.78},\n",
       "  'models': {'sparse-lr': {'mse': 1.277106715403009e-11,\n",
       "    'intercept': np.float64(-1.4551915228366852e-11),\n",
       "    'coeffs': [{'col-index': 7,\n",
       "      'col-name': 'Regular Earnings',\n",
       "      'coeff': np.float64(1.0000000000000004)},\n",
       "     {'col-index': 8,\n",
       "      'col-name': 'Overtime Earnings',\n",
       "      'coeff': np.float64(1.0000000000000007)}]}}}]"
      ]
     },
     "execution_count": 4,
     "metadata": {},
     "output_type": "execute_result"
    }
   ],
   "source": [
    "# Drill the functions.\n",
    "functions = virtual.train(csv_filepath, prefix='./demo-debug/')\n",
    "\n",
    "functions"
   ]
  },
  {
   "cell_type": "markdown",
   "metadata": {},
   "source": [
    "### Compress with functions"
   ]
  },
  {
   "cell_type": "code",
   "execution_count": 5,
   "metadata": {},
   "outputs": [
    {
     "name": "stdout",
     "output_type": "stream",
     "text": [
      "Running schema inference..\n",
      "Let's see how many benefit virtualization..\n",
      "It seems that 1 function(s) can indeed be used for virtualization.\n",
      "Creating the virtual file..\n",
      "Done.\n"
     ]
    }
   ],
   "source": [
    "# Use them for compression.\n",
    "virtual.to_format(csv_filepath, 'example_virtual.csv', functions)"
   ]
  },
  {
   "cell_type": "markdown",
   "metadata": {},
   "source": [
    "### Query the vanilla CSV file"
   ]
  },
  {
   "cell_type": "code",
   "execution_count": 6,
   "metadata": {},
   "outputs": [
    {
     "data": {
      "text/html": [
       "<div>\n",
       "<style scoped>\n",
       "    .dataframe tbody tr th:only-of-type {\n",
       "        vertical-align: middle;\n",
       "    }\n",
       "\n",
       "    .dataframe tbody tr th {\n",
       "        vertical-align: top;\n",
       "    }\n",
       "\n",
       "    .dataframe thead th {\n",
       "        text-align: right;\n",
       "    }\n",
       "</style>\n",
       "<table border=\"1\" class=\"dataframe\">\n",
       "  <thead>\n",
       "    <tr style=\"text-align: right;\">\n",
       "      <th></th>\n",
       "      <th>avg(\"Total Earnings\")</th>\n",
       "    </tr>\n",
       "  </thead>\n",
       "  <tbody>\n",
       "    <tr>\n",
       "      <th>0</th>\n",
       "      <td>32326.906086</td>\n",
       "    </tr>\n",
       "  </tbody>\n",
       "</table>\n",
       "</div>"
      ],
      "text/plain": [
       "   avg(\"Total Earnings\")\n",
       "0           32326.906086"
      ]
     },
     "execution_count": 6,
     "metadata": {},
     "output_type": "execute_result"
    }
   ],
   "source": [
    "import duckdb\n",
    "\n",
    "duckdb.sql('select avg(\"Total Earnings\") from read_csv(\"example.csv\")').df()"
   ]
  },
  {
   "cell_type": "markdown",
   "metadata": {},
   "source": [
    "### Query the virtualized CSV file"
   ]
  },
  {
   "cell_type": "code",
   "execution_count": 7,
   "metadata": {},
   "outputs": [
    {
     "data": {
      "text/html": [
       "<div>\n",
       "<style scoped>\n",
       "    .dataframe tbody tr th:only-of-type {\n",
       "        vertical-align: middle;\n",
       "    }\n",
       "\n",
       "    .dataframe tbody tr th {\n",
       "        vertical-align: top;\n",
       "    }\n",
       "\n",
       "    .dataframe thead th {\n",
       "        text-align: right;\n",
       "    }\n",
       "</style>\n",
       "<table border=\"1\" class=\"dataframe\">\n",
       "  <thead>\n",
       "    <tr style=\"text-align: right;\">\n",
       "      <th></th>\n",
       "      <th>avg(\"Total Earnings\")</th>\n",
       "    </tr>\n",
       "  </thead>\n",
       "  <tbody>\n",
       "    <tr>\n",
       "      <th>0</th>\n",
       "      <td>32326.906086</td>\n",
       "    </tr>\n",
       "  </tbody>\n",
       "</table>\n",
       "</div>"
      ],
      "text/plain": [
       "   avg(\"Total Earnings\")\n",
       "0           32326.906086"
      ]
     },
     "execution_count": 7,
     "metadata": {},
     "output_type": "execute_result"
    }
   ],
   "source": [
    "virtual.query(\n",
    "  'select avg(\"Total Earnings\") from read_csv(\"example_virtual.csv\")',\n",
    "  engine = 'duckdb'\n",
    ")"
   ]
  }
 ],
 "metadata": {
  "kernelspec": {
   "display_name": ".venv",
   "language": "python",
   "name": "python3"
  },
  "language_info": {
   "codemirror_mode": {
    "name": "ipython",
    "version": 3
   },
   "file_extension": ".py",
   "mimetype": "text/x-python",
   "name": "python",
   "nbconvert_exporter": "python",
   "pygments_lexer": "ipython3",
   "version": "3.13.0"
  }
 },
 "nbformat": 4,
 "nbformat_minor": 2
}
