{
 "cells": [
  {
   "cell_type": "markdown",
   "metadata": {},
   "source": [
    "# `virtual`: CSV Demo"
   ]
  },
  {
   "cell_type": "code",
   "execution_count": 1,
   "metadata": {},
   "outputs": [],
   "source": [
    "%reload_ext autoreload\n",
    "%autoreload 2\n",
    "\n",
    "import virtual\n",
    "\n",
    "csv_filepath = 'example.csv'"
   ]
  },
  {
   "cell_type": "markdown",
   "metadata": {},
   "source": [
    "### One-shot table compression"
   ]
  },
  {
   "cell_type": "code",
   "execution_count": 2,
   "metadata": {},
   "outputs": [
    {
     "name": "stdout",
     "output_type": "stream",
     "text": [
      "Running schema inference..\n",
      "Drilling functions..\n",
      "     Earnings Year  Regular Earnings  Overtime Earnings  Total Earnings\n",
      "722           2020          53353.99            2598.24        55952.23\n",
      "77            2020           6403.80               0.00         6403.80\n",
      "877           2020          15061.67               0.00        15061.67\n",
      "613           2020           2583.70               0.00         2583.70\n",
      "903           2020          39549.48               0.00        39549.48\n",
      "..             ...               ...                ...             ...\n",
      "835           2020          17824.52               0.00        17824.52\n",
      "192           2020          76032.78             235.71        76268.49\n",
      "629           2020          52957.48            8044.19        61001.67\n",
      "559           2020          15074.50               0.00        15074.50\n",
      "684           2020          42466.97            1971.51        44438.48\n",
      "\n",
      "[999 rows x 4 columns]\n",
      "BBBBBBBBB\n",
      "[7, 8, 9]\n",
      "['Earnings Year', 'Regular Earnings', 'Overtime Earnings', 'Total Earnings']\n",
      "[0, 7, 8, 9]\n",
      "['Regular Earnings', 'Overtime Earnings', 'Total Earnings']\n",
      "Earnings Year\n",
      "1.8555809279793825\n",
      "curr_mse=1.8572998848441455\n",
      "curr_mse=1.8555809279793825\n",
      "curr_mse=1.8555809279793825\n",
      "[{'feature': 0, 'diff': 0.0}, {'feature': 1, 'diff': 0.0}, {'feature': 2, 'diff': 0.0}]\n",
      "BBBBBBBBB\n",
      "[0, 8, 9]\n",
      "['Earnings Year', 'Regular Earnings', 'Overtime Earnings', 'Total Earnings']\n",
      "[0, 7, 8, 9]\n",
      "['Earnings Year', 'Overtime Earnings', 'Total Earnings']\n",
      "Regular Earnings\n",
      "1.815488488967374e-11\n",
      "curr_mse=2053.9973074770874\n",
      "curr_mse=1.3325648912613977e-11\n",
      "[{'feature': 2, 'diff': 26676.91012436989}, {'feature': 1, 'diff': 2053.997307477069}]\n",
      "BBBBBBBBB\n",
      "[0, 7, 9]\n",
      "['Earnings Year', 'Regular Earnings', 'Overtime Earnings', 'Total Earnings']\n",
      "[0, 7, 8, 9]\n",
      "['Earnings Year', 'Regular Earnings', 'Total Earnings']\n",
      "Overtime Earnings\n",
      "1.8097388027102943e-11\n",
      "curr_mse=2053.9973074770874\n",
      "curr_mse=6.6354454390038545e-12\n",
      "[{'feature': 2, 'diff': 2098.335122833535}, {'feature': 1, 'diff': 2053.997307477069}]\n",
      "BBBBBBBBB\n",
      "[0, 7, 8]\n",
      "['Earnings Year', 'Regular Earnings', 'Overtime Earnings', 'Total Earnings']\n",
      "[0, 7, 8, 9]\n",
      "['Earnings Year', 'Regular Earnings', 'Overtime Earnings']\n",
      "Total Earnings\n",
      "2.4689507689564232e-11\n",
      "curr_mse=2098.3351228335528\n",
      "curr_mse=1.277106715403009e-11\n",
      "[{'feature': 1, 'diff': 26676.910124369882}, {'feature': 2, 'diff': 2098.335122833528}]\n",
      "We found 4 function(s) in your table.\n",
      "Creating the virtual file..\n"
     ]
    }
   ],
   "source": [
    "# Save in Parquet format.\n",
    "virtual.to_format(csv_filepath, 'example_virtual.csv', model_types=['sparse-lr'], prefix='demo-debug/')"
   ]
  },
  {
   "cell_type": "markdown",
   "metadata": {},
   "source": [
    "### Compare to vanilla CSV"
   ]
  },
  {
   "cell_type": "code",
   "execution_count": 3,
   "metadata": {},
   "outputs": [
    {
     "name": "stdout",
     "output_type": "stream",
     "text": [
      "CSV: 122375 bytes\n",
      "Virtual: 112833 bytes\n"
     ]
    }
   ],
   "source": [
    "import os\n",
    "\n",
    "print(f'CSV: {os.path.getsize('example.csv')} bytes')\n",
    "print(f'Virtual: {os.path.getsize('example_virtual.csv')} bytes')"
   ]
  },
  {
   "cell_type": "markdown",
   "metadata": {},
   "source": [
    "### Exploring functions"
   ]
  },
  {
   "cell_type": "code",
   "execution_count": 4,
   "metadata": {},
   "outputs": [
    {
     "name": "stdout",
     "output_type": "stream",
     "text": [
      "Drilling functions..\n",
      "     Earnings Year  Regular Earnings  Overtime Earnings  Total Earnings\n",
      "722           2020          53353.99            2598.24        55952.23\n",
      "77            2020           6403.80               0.00         6403.80\n",
      "877           2020          15061.67               0.00        15061.67\n",
      "613           2020           2583.70               0.00         2583.70\n",
      "903           2020          39549.48               0.00        39549.48\n",
      "..             ...               ...                ...             ...\n",
      "835           2020          17824.52               0.00        17824.52\n",
      "192           2020          76032.78             235.71        76268.49\n",
      "629           2020          52957.48            8044.19        61001.67\n",
      "559           2020          15074.50               0.00        15074.50\n",
      "684           2020          42466.97            1971.51        44438.48\n",
      "\n",
      "[999 rows x 4 columns]\n",
      "BBBBBBBBB\n",
      "[7, 8, 9]\n",
      "['Earnings Year', 'Regular Earnings', 'Overtime Earnings', 'Total Earnings']\n",
      "[0, 7, 8, 9]\n",
      "['Regular Earnings', 'Overtime Earnings', 'Total Earnings']\n",
      "Earnings Year\n",
      "1.8555809279793825\n",
      "curr_mse=1.8572998848441455\n",
      "curr_mse=1.8555809279793825\n",
      "curr_mse=1.8555809279793825\n",
      "[{'feature': 0, 'diff': 0.0}, {'feature': 1, 'diff': 0.0}, {'feature': 2, 'diff': 0.0}]\n",
      "BBBBBBBBB\n",
      "[0, 8, 9]\n",
      "['Earnings Year', 'Regular Earnings', 'Overtime Earnings', 'Total Earnings']\n",
      "[0, 7, 8, 9]\n",
      "['Earnings Year', 'Overtime Earnings', 'Total Earnings']\n",
      "Regular Earnings\n",
      "1.815488488967374e-11\n",
      "curr_mse=2053.9973074770874\n",
      "curr_mse=1.3325648912613977e-11\n",
      "[{'feature': 2, 'diff': 26676.91012436989}, {'feature': 1, 'diff': 2053.997307477069}]\n",
      "BBBBBBBBB\n",
      "[0, 7, 9]\n",
      "['Earnings Year', 'Regular Earnings', 'Overtime Earnings', 'Total Earnings']\n",
      "[0, 7, 8, 9]\n",
      "['Earnings Year', 'Regular Earnings', 'Total Earnings']\n",
      "Overtime Earnings\n",
      "1.8097388027102943e-11\n",
      "curr_mse=2053.9973074770874\n",
      "curr_mse=6.6354454390038545e-12\n",
      "[{'feature': 2, 'diff': 2098.335122833535}, {'feature': 1, 'diff': 2053.997307477069}]\n",
      "BBBBBBBBB\n",
      "[0, 7, 8]\n",
      "['Earnings Year', 'Regular Earnings', 'Overtime Earnings', 'Total Earnings']\n",
      "[0, 7, 8, 9]\n",
      "['Earnings Year', 'Regular Earnings', 'Overtime Earnings']\n",
      "Total Earnings\n",
      "2.4689507689564232e-11\n",
      "curr_mse=2098.3351228335528\n",
      "curr_mse=1.277106715403009e-11\n",
      "[{'feature': 1, 'diff': 26676.910124369882}, {'feature': 2, 'diff': 2098.335122833528}]\n",
      "We found 4 function(s) in your table.\n"
     ]
    },
    {
     "data": {
      "text/plain": [
       "[{'target_index': 0,\n",
       "  'target_name': 'Earnings Year',\n",
       "  'target_stats': {'mean': np.float64(2019.6546546546547),\n",
       "   'max': 2022.0,\n",
       "   'min': 2010.0},\n",
       "  'models': {'sparse-lr': {'mse': 1.8555809279793825,\n",
       "    'intercept': np.float64(2019.5465662140489),\n",
       "    'coeffs': [{'col-index': 7,\n",
       "      'col-name': 'Regular Earnings',\n",
       "      'coeff': np.float64(-1.10293761901915e-05)},\n",
       "     {'col-index': 8,\n",
       "      'col-name': 'Overtime Earnings',\n",
       "      'coeff': np.float64(2.4551014714109545e-05)},\n",
       "     {'col-index': 9,\n",
       "      'col-name': 'Total Earnings',\n",
       "      'coeff': np.float64(1.3521638523918047e-05)}]}}},\n",
       " {'target_index': 7,\n",
       "  'target_name': 'Regular Earnings',\n",
       "  'target_stats': {'mean': np.float64(31553.40951951952),\n",
       "   'max': 202038.13,\n",
       "   'min': 0.78},\n",
       "  'models': {'sparse-lr': {'mse': 3.160278351151207e-11,\n",
       "    'intercept': np.float64(1.0913936421275139e-11),\n",
       "    'coeffs': [{'col-index': 8,\n",
       "      'col-name': 'Overtime Earnings',\n",
       "      'coeff': np.float64(-0.9999999999999851)},\n",
       "     {'col-index': 9,\n",
       "      'col-name': 'Total Earnings',\n",
       "      'coeff': np.float64(0.9999999999999993)}]}}},\n",
       " {'target_index': 8,\n",
       "  'target_name': 'Overtime Earnings',\n",
       "  'target_stats': {'mean': np.float64(773.4965665665667),\n",
       "   'max': 21905.28,\n",
       "   'min': 0.0},\n",
       "  'models': {'sparse-lr': {'mse': 6.902824566617844e-12,\n",
       "    'intercept': np.float64(8.526512829121202e-12),\n",
       "    'coeffs': [{'col-index': 7,\n",
       "      'col-name': 'Regular Earnings',\n",
       "      'coeff': np.float64(-1.0000000000000013)},\n",
       "     {'col-index': 9,\n",
       "      'col-name': 'Total Earnings',\n",
       "      'coeff': np.float64(1.000000000000001)}]}}},\n",
       " {'target_index': 9,\n",
       "  'target_name': 'Total Earnings',\n",
       "  'target_stats': {'mean': np.float64(32326.906086086085),\n",
       "   'max': 202038.13,\n",
       "   'min': 0.78},\n",
       "  'models': {'sparse-lr': {'mse': 1.277106715403009e-11,\n",
       "    'intercept': np.float64(-1.4551915228366852e-11),\n",
       "    'coeffs': [{'col-index': 7,\n",
       "      'col-name': 'Regular Earnings',\n",
       "      'coeff': np.float64(1.0000000000000004)},\n",
       "     {'col-index': 8,\n",
       "      'col-name': 'Overtime Earnings',\n",
       "      'coeff': np.float64(1.0000000000000007)}]}}}]"
      ]
     },
     "execution_count": 4,
     "metadata": {},
     "output_type": "execute_result"
    }
   ],
   "source": [
    "# Drill the functions.\n",
    "functions = virtual.train(csv_filepath, model_types=['sparse-lr'], prefix='./demo-debug/')\n",
    "\n",
    "functions"
   ]
  },
  {
   "cell_type": "markdown",
   "metadata": {},
   "source": [
    "### Compress with functions"
   ]
  },
  {
   "cell_type": "code",
   "execution_count": 5,
   "metadata": {},
   "outputs": [
    {
     "name": "stdout",
     "output_type": "stream",
     "text": [
      "Running schema inference..\n",
      "Creating the virtual file..\n"
     ]
    }
   ],
   "source": [
    "# Use them for compression.\n",
    "virtual.to_format(csv_filepath, 'example_virtual.csv', functions)"
   ]
  },
  {
   "cell_type": "markdown",
   "metadata": {},
   "source": [
    "### Query the vanilla CSV file"
   ]
  },
  {
   "cell_type": "code",
   "execution_count": 6,
   "metadata": {},
   "outputs": [
    {
     "data": {
      "text/html": [
       "<div>\n",
       "<style scoped>\n",
       "    .dataframe tbody tr th:only-of-type {\n",
       "        vertical-align: middle;\n",
       "    }\n",
       "\n",
       "    .dataframe tbody tr th {\n",
       "        vertical-align: top;\n",
       "    }\n",
       "\n",
       "    .dataframe thead th {\n",
       "        text-align: right;\n",
       "    }\n",
       "</style>\n",
       "<table border=\"1\" class=\"dataframe\">\n",
       "  <thead>\n",
       "    <tr style=\"text-align: right;\">\n",
       "      <th></th>\n",
       "      <th>avg(\"Total Earnings\")</th>\n",
       "    </tr>\n",
       "  </thead>\n",
       "  <tbody>\n",
       "    <tr>\n",
       "      <th>0</th>\n",
       "      <td>32326.906086</td>\n",
       "    </tr>\n",
       "  </tbody>\n",
       "</table>\n",
       "</div>"
      ],
      "text/plain": [
       "   avg(\"Total Earnings\")\n",
       "0           32326.906086"
      ]
     },
     "execution_count": 6,
     "metadata": {},
     "output_type": "execute_result"
    }
   ],
   "source": [
    "import duckdb\n",
    "\n",
    "duckdb.sql('select avg(\"Total Earnings\") from read_csv(\"example.csv\")').df()"
   ]
  },
  {
   "cell_type": "markdown",
   "metadata": {},
   "source": [
    "### Query the virtualized CSV file"
   ]
  },
  {
   "cell_type": "code",
   "execution_count": 7,
   "metadata": {},
   "outputs": [
    {
     "data": {
      "text/html": [
       "<div>\n",
       "<style scoped>\n",
       "    .dataframe tbody tr th:only-of-type {\n",
       "        vertical-align: middle;\n",
       "    }\n",
       "\n",
       "    .dataframe tbody tr th {\n",
       "        vertical-align: top;\n",
       "    }\n",
       "\n",
       "    .dataframe thead th {\n",
       "        text-align: right;\n",
       "    }\n",
       "</style>\n",
       "<table border=\"1\" class=\"dataframe\">\n",
       "  <thead>\n",
       "    <tr style=\"text-align: right;\">\n",
       "      <th></th>\n",
       "      <th>avg(\"Total Earnings\")</th>\n",
       "    </tr>\n",
       "  </thead>\n",
       "  <tbody>\n",
       "    <tr>\n",
       "      <th>0</th>\n",
       "      <td>32326.906086</td>\n",
       "    </tr>\n",
       "  </tbody>\n",
       "</table>\n",
       "</div>"
      ],
      "text/plain": [
       "   avg(\"Total Earnings\")\n",
       "0           32326.906086"
      ]
     },
     "execution_count": 7,
     "metadata": {},
     "output_type": "execute_result"
    }
   ],
   "source": [
    "virtual.query(\n",
    "  'select avg(\"Total Earnings\") from read_csv(\"example_virtual.csv\")',\n",
    "  engine = 'duckdb'\n",
    ")"
   ]
  }
 ],
 "metadata": {
  "kernelspec": {
   "display_name": ".venv",
   "language": "python",
   "name": "python3"
  },
  "language_info": {
   "codemirror_mode": {
    "name": "ipython",
    "version": 3
   },
   "file_extension": ".py",
   "mimetype": "text/x-python",
   "name": "python",
   "nbconvert_exporter": "python",
   "pygments_lexer": "ipython3",
   "version": "3.13.0"
  }
 },
 "nbformat": 4,
 "nbformat_minor": 2
}
