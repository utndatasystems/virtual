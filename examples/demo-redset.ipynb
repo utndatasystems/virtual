{
 "cells": [
  {
   "cell_type": "markdown",
   "metadata": {},
   "source": [
    "# `virtual`: How to virtualize Redset"
   ]
  },
  {
   "cell_type": "code",
   "execution_count": null,
   "metadata": {},
   "outputs": [],
   "source": [
    "%reload_ext autoreload\n",
    "%autoreload 2\n",
    "\n",
    "import virtual\n",
    "\n",
    "# s3_parquet_filepath = 's3://redshift-downloads/redset/serverless/sample_0.01.parquet'\n",
    "s3_parquet_filepath = '../../demo/data/redset-serverless.parquet'"
   ]
  },
  {
   "cell_type": "markdown",
   "metadata": {},
   "source": [
    "### One-shot table compression"
   ]
  },
  {
   "cell_type": "code",
   "execution_count": null,
   "metadata": {},
   "outputs": [],
   "source": [
    "# Virtualize Parquet file stored on S3.\n",
    "virtual.to_format(s3_parquet_filepath, 'redset_virtual.parquet', model_types=['sparse-lr'], prefix='demo-debug/')"
   ]
  },
  {
   "cell_type": "markdown",
   "metadata": {},
   "source": [
    "### Compare to vanilla `Parquet`"
   ]
  },
  {
   "cell_type": "code",
   "execution_count": null,
   "metadata": {},
   "outputs": [],
   "source": [
    "import os\n",
    "import demo_util\n",
    "%pip install requests\n",
    "\n",
    "print(f'Redset parquet size: {demo_util.get_file_size(s3_parquet_filepath) / 1_000_000} MB')\n",
    "print(f'Redset virtual size: {os.path.getsize('redset_virtual.parquet') / 1_000_000} MB')"
   ]
  },
  {
   "cell_type": "markdown",
   "metadata": {},
   "source": [
    "### Query the vanilla Parquet file"
   ]
  },
  {
   "cell_type": "code",
   "execution_count": null,
   "metadata": {},
   "outputs": [],
   "source": [
    "import duckdb\n",
    "\n",
    "duckdb.sql(f'select num_scans, count(*) from read_parquet(\"{s3_parquet_filepath}\") group by num_scans order by num_scans;').fetchdf()"
   ]
  },
  {
   "cell_type": "markdown",
   "metadata": {},
   "source": [
    "### Query the virtualized Parquet file"
   ]
  },
  {
   "cell_type": "code",
   "execution_count": null,
   "metadata": {},
   "outputs": [],
   "source": [
    "virtual.query(\n",
    "  'select num_scans, count(*) from read_parquet(\"redset_virtual.parquet\") group by num_scans order by num_scans',\n",
    "  engine = 'duckdb'\n",
    ")"
   ]
  }
 ],
 "metadata": {
  "kernelspec": {
   "display_name": ".venv",
   "language": "python",
   "name": "python3"
  },
  "language_info": {
   "codemirror_mode": {
    "name": "ipython",
    "version": 3
   },
   "file_extension": ".py",
   "mimetype": "text/x-python",
   "name": "python",
   "nbconvert_exporter": "python",
   "pygments_lexer": "ipython3",
   "version": "3.13.0"
  }
 },
 "nbformat": 4,
 "nbformat_minor": 2
}
