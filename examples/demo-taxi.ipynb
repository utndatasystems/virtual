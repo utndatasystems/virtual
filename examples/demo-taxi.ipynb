{
 "cells": [
  {
   "cell_type": "markdown",
   "metadata": {},
   "source": [
    "# `virtual`: Taxi Demo"
   ]
  },
  {
   "cell_type": "code",
   "execution_count": 1,
   "metadata": {},
   "outputs": [],
   "source": [
    "%load_ext autoreload\n",
    "%autoreload 2\n",
    "\n",
    "import virtual\n",
    "\n",
    "parquet_filepath = 'https://blobs.duckdb.org/data/taxi_2019_04.parquet'"
   ]
  },
  {
   "cell_type": "markdown",
   "metadata": {},
   "source": [
    "### One-shot table virtualization"
   ]
  },
  {
   "cell_type": "code",
   "execution_count": 2,
   "metadata": {},
   "outputs": [
    {
     "name": "stdout",
     "output_type": "stream",
     "text": [
      "Running schema inference..\n",
      "Drilling functions..\n",
      "We found 10 function candidate(s) in your table.\n",
      "Let's see how many benefit virtualization..\n",
      "It seems that 2 function(s) can indeed be used for virtualization.\n",
      "Creating the virtual file..\n",
      "Done.\n"
     ]
    }
   ],
   "source": [
    "# Save in Parquet format.\n",
    "# Note: In this case, we're also using k-regression (see our TRL'24 paper for more details).\n",
    "virtual.to_format(parquet_filepath, 'taxi_virtual.parquet', model_types=['sparse-lr', 'k-regression', 'custom'], prefix='demo-debug/')"
   ]
  },
  {
   "cell_type": "markdown",
   "metadata": {},
   "source": [
    "### Compare to vanilla `Parquet`"
   ]
  },
  {
   "cell_type": "code",
   "execution_count": 6,
   "metadata": {},
   "outputs": [
    {
     "name": "stdout",
     "output_type": "stream",
     "text": [
      "[taxi_2019_04] Parquet: 137.726973 MB\n",
      "[taxi_2019_04] Virtual: 109.026684 MB\n"
     ]
    }
   ],
   "source": [
    "import os\n",
    "\n",
    "table = os.path.splitext(os.path.basename(parquet_filepath))[0]\n",
    "print(f'[{table}] Parquet: {os.path.getsize('taxi.parquet') / 1_000_000} MB')\n",
    "print(f'[{table}] Virtual: {os.path.getsize('taxi_virtual.parquet') / 1_000_000} MB')"
   ]
  },
  {
   "cell_type": "markdown",
   "metadata": {},
   "source": [
    "### Query the vanilla Parquet file"
   ]
  },
  {
   "cell_type": "markdown",
   "metadata": {},
   "source": [
    "#### `TIMESTAMP`-valued Column"
   ]
  },
  {
   "cell_type": "code",
   "execution_count": 12,
   "metadata": {},
   "outputs": [
    {
     "data": {
      "text/html": [
       "<div>\n",
       "<style scoped>\n",
       "    .dataframe tbody tr th:only-of-type {\n",
       "        vertical-align: middle;\n",
       "    }\n",
       "\n",
       "    .dataframe tbody tr th {\n",
       "        vertical-align: top;\n",
       "    }\n",
       "\n",
       "    .dataframe thead th {\n",
       "        text-align: right;\n",
       "    }\n",
       "</style>\n",
       "<table border=\"1\" class=\"dataframe\">\n",
       "  <thead>\n",
       "    <tr style=\"text-align: right;\">\n",
       "      <th></th>\n",
       "      <th>min(dropoff_at)</th>\n",
       "    </tr>\n",
       "  </thead>\n",
       "  <tbody>\n",
       "    <tr>\n",
       "      <th>0</th>\n",
       "      <td>2008-08-08 20:25:45</td>\n",
       "    </tr>\n",
       "  </tbody>\n",
       "</table>\n",
       "</div>"
      ],
      "text/plain": [
       "      min(dropoff_at)\n",
       "0 2008-08-08 20:25:45"
      ]
     },
     "execution_count": 12,
     "metadata": {},
     "output_type": "execute_result"
    }
   ],
   "source": [
    "import duckdb\n",
    "\n",
    "duckdb.sql(f\"select min(dropoff_at) from read_parquet('{parquet_filepath}')\").df()"
   ]
  },
  {
   "cell_type": "markdown",
   "metadata": {},
   "source": [
    "#### Numeric column"
   ]
  },
  {
   "cell_type": "code",
   "execution_count": 7,
   "metadata": {},
   "outputs": [
    {
     "data": {
      "text/html": [
       "<div>\n",
       "<style scoped>\n",
       "    .dataframe tbody tr th:only-of-type {\n",
       "        vertical-align: middle;\n",
       "    }\n",
       "\n",
       "    .dataframe tbody tr th {\n",
       "        vertical-align: top;\n",
       "    }\n",
       "\n",
       "    .dataframe thead th {\n",
       "        text-align: right;\n",
       "    }\n",
       "</style>\n",
       "<table border=\"1\" class=\"dataframe\">\n",
       "  <thead>\n",
       "    <tr style=\"text-align: right;\">\n",
       "      <th></th>\n",
       "      <th>avg(total_amount)</th>\n",
       "    </tr>\n",
       "  </thead>\n",
       "  <tbody>\n",
       "    <tr>\n",
       "      <th>0</th>\n",
       "      <td>19.229813</td>\n",
       "    </tr>\n",
       "  </tbody>\n",
       "</table>\n",
       "</div>"
      ],
      "text/plain": [
       "   avg(total_amount)\n",
       "0          19.229813"
      ]
     },
     "execution_count": 7,
     "metadata": {},
     "output_type": "execute_result"
    }
   ],
   "source": [
    "import duckdb\n",
    "\n",
    "duckdb.sql(f\"select avg(total_amount) from read_parquet('{parquet_filepath}')\").df()"
   ]
  },
  {
   "cell_type": "markdown",
   "metadata": {},
   "source": [
    "### Query the virtualized Parquet file"
   ]
  },
  {
   "cell_type": "markdown",
   "metadata": {},
   "source": [
    "#### `TIMESTAMP`-valued column"
   ]
  },
  {
   "cell_type": "code",
   "execution_count": 14,
   "metadata": {},
   "outputs": [
    {
     "data": {
      "text/html": [
       "<div>\n",
       "<style scoped>\n",
       "    .dataframe tbody tr th:only-of-type {\n",
       "        vertical-align: middle;\n",
       "    }\n",
       "\n",
       "    .dataframe tbody tr th {\n",
       "        vertical-align: top;\n",
       "    }\n",
       "\n",
       "    .dataframe thead th {\n",
       "        text-align: right;\n",
       "    }\n",
       "</style>\n",
       "<table border=\"1\" class=\"dataframe\">\n",
       "  <thead>\n",
       "    <tr style=\"text-align: right;\">\n",
       "      <th></th>\n",
       "      <th>min((pickup_at + (CAST('1 second' AS INTERVAL) * dropoff_at_offset)))</th>\n",
       "    </tr>\n",
       "  </thead>\n",
       "  <tbody>\n",
       "    <tr>\n",
       "      <th>0</th>\n",
       "      <td>2008-08-08 20:25:45</td>\n",
       "    </tr>\n",
       "  </tbody>\n",
       "</table>\n",
       "</div>"
      ],
      "text/plain": [
       "  min((pickup_at + (CAST('1 second' AS INTERVAL) * dropoff_at_offset)))\n",
       "0                                2008-08-08 20:25:45                   "
      ]
     },
     "execution_count": 14,
     "metadata": {},
     "output_type": "execute_result"
    }
   ],
   "source": [
    "virtual.query(\n",
    "  'select min(dropoff_at) from read_parquet(\"taxi_virtual.parquet\")',\n",
    "  engine = 'duckdb'\n",
    ")"
   ]
  },
  {
   "cell_type": "markdown",
   "metadata": {},
   "source": [
    "#### Numeric Column"
   ]
  },
  {
   "cell_type": "code",
   "execution_count": 15,
   "metadata": {},
   "outputs": [
    {
     "data": {
      "text/html": [
       "<div>\n",
       "<style scoped>\n",
       "    .dataframe tbody tr th:only-of-type {\n",
       "        vertical-align: middle;\n",
       "    }\n",
       "\n",
       "    .dataframe tbody tr th {\n",
       "        vertical-align: top;\n",
       "    }\n",
       "\n",
       "    .dataframe thead th {\n",
       "        text-align: right;\n",
       "    }\n",
       "</style>\n",
       "<table border=\"1\" class=\"dataframe\">\n",
       "  <thead>\n",
       "    <tr style=\"text-align: right;\">\n",
       "      <th></th>\n",
       "      <th>avg((CASE  WHEN ((total_amount_switch = 0)) THEN (round((((1.0353 * fare_amount) + (1.2448 * tip_amount)) + 2.6879), 2)) WHEN ((total_amount_switch = 1)) THEN (round(((((1.0025 * fare_amount) + (0.9973 * tip_amount)) + (0.9109 * tolls_amount)) + 3.7439), 2)) WHEN ((total_amount_switch = 2)) THEN (round((((1.2921 * fare_amount) + (1.3004 * tolls_amount)) + -0.6258), 2)) WHEN ((total_amount_switch = 3)) THEN (round(((((1 * fare_amount) + (1 * tip_amount)) + (1 * tolls_amount)) + 3.8), 2)) WHEN ((total_amount_switch = 4)) THEN (round(((1.4433 * fare_amount) + 7.2944), 2)) WHEN ((total_amount_switch = 5)) THEN (round(((((1.0819 * fare_amount) + (0.9819 * tip_amount)) + (1.0188 * tolls_amount)) + 3.5008), 2)) WHEN ((total_amount_switch = 6)) THEN (round(((((1 * fare_amount) + (0.9855 * tip_amount)) + (1.097 * tolls_amount)) + 3.4855), 2)) WHEN ((total_amount_switch = 7)) THEN (24.36) WHEN ((total_amount_switch = 8)) THEN (round((((((1.0026 * fare_amount) + (0.9972 * tip_amount)) + (0.9608 * tolls_amount)) + (1.3321 * congestion_surcharge)) + 0.9671), 2)) WHEN ((total_amount_switch = 9)) THEN (round(((((0.9389 * fare_amount) + (1.2687 * tip_amount)) + (1.6065 * tolls_amount)) + 4.0021), 2)) WHEN ((total_amount_switch = 10)) THEN (round(((0.9998 * fare_amount) + 0.7622), 2)) WHEN ((total_amount_switch = 11)) THEN (round(((((1 * fare_amount) + (1 * tip_amount)) + (1 * tolls_amount)) + 3.3), 2)) WHEN ((total_amount_switch = 12)) THEN (round((((1.0049 * fare_amount) + (1.0574 * tip_amount)) + 3.6742), 2)) WHEN ((total_amount_switch = 13)) THEN (round(((((0.9648 * fare_amount) + (1.0903 * tip_amount)) + (0.9751 * tolls_amount)) + 3.8456), 2)) ELSE round(((((0.9982 * fare_amount) + (0.9933 * tip_amount)) + (0.9943 * tolls_amount)) + 1.8484), 2) END + total_amount_offset))</th>\n",
       "    </tr>\n",
       "  </thead>\n",
       "  <tbody>\n",
       "    <tr>\n",
       "      <th>0</th>\n",
       "      <td>19.229813</td>\n",
       "    </tr>\n",
       "  </tbody>\n",
       "</table>\n",
       "</div>"
      ],
      "text/plain": [
       "   avg((CASE  WHEN ((total_amount_switch = 0)) THEN (round((((1.0353 * fare_amount) + (1.2448 * tip_amount)) + 2.6879), 2)) WHEN ((total_amount_switch = 1)) THEN (round(((((1.0025 * fare_amount) + (0.9973 * tip_amount)) + (0.9109 * tolls_amount)) + 3.7439), 2)) WHEN ((total_amount_switch = 2)) THEN (round((((1.2921 * fare_amount) + (1.3004 * tolls_amount)) + -0.6258), 2)) WHEN ((total_amount_switch = 3)) THEN (round(((((1 * fare_amount) + (1 * tip_amount)) + (1 * tolls_amount)) + 3.8), 2)) WHEN ((total_amount_switch = 4)) THEN (round(((1.4433 * fare_amount) + 7.2944), 2)) WHEN ((total_amount_switch = 5)) THEN (round(((((1.0819 * fare_amount) + (0.9819 * tip_amount)) + (1.0188 * tolls_amount)) + 3.5008), 2)) WHEN ((total_amount_switch = 6)) THEN (round(((((1 * fare_amount) + (0.9855 * tip_amount)) + (1.097 * tolls_amount)) + 3.4855), 2)) WHEN ((total_amount_switch = 7)) THEN (24.36) WHEN ((total_amount_switch = 8)) THEN (round((((((1.0026 * fare_amount) + (0.9972 * tip_amount)) + (0.9608 * tolls_amount)) + (1.3321 * congestion_surcharge)) + 0.9671), 2)) WHEN ((total_amount_switch = 9)) THEN (round(((((0.9389 * fare_amount) + (1.2687 * tip_amount)) + (1.6065 * tolls_amount)) + 4.0021), 2)) WHEN ((total_amount_switch = 10)) THEN (round(((0.9998 * fare_amount) + 0.7622), 2)) WHEN ((total_amount_switch = 11)) THEN (round(((((1 * fare_amount) + (1 * tip_amount)) + (1 * tolls_amount)) + 3.3), 2)) WHEN ((total_amount_switch = 12)) THEN (round((((1.0049 * fare_amount) + (1.0574 * tip_amount)) + 3.6742), 2)) WHEN ((total_amount_switch = 13)) THEN (round(((((0.9648 * fare_amount) + (1.0903 * tip_amount)) + (0.9751 * tolls_amount)) + 3.8456), 2)) ELSE round(((((0.9982 * fare_amount) + (0.9933 * tip_amount)) + (0.9943 * tolls_amount)) + 1.8484), 2) END + total_amount_offset))\n",
       "0                                          19.229813                                                                                                                                                                                                                                                                                                                                                                                                                                                                                                                                                                                                                                                                                                                                                                                                                                                                                                                                                                                                                                                                                                                                                                                                                                                                                                                                                                                                                                                                                                                                                                                                                                                                                                                                                                                                             "
      ]
     },
     "execution_count": 15,
     "metadata": {},
     "output_type": "execute_result"
    }
   ],
   "source": [
    "virtual.query(\n",
    "  'select avg(total_amount) from read_parquet(\"taxi_virtual.parquet\")',\n",
    "  engine = 'duckdb'\n",
    ")"
   ]
  }
 ],
 "metadata": {
  "kernelspec": {
   "display_name": ".venv",
   "language": "python",
   "name": "python3"
  },
  "language_info": {
   "codemirror_mode": {
    "name": "ipython",
    "version": 3
   },
   "file_extension": ".py",
   "mimetype": "text/x-python",
   "name": "python",
   "nbconvert_exporter": "python",
   "pygments_lexer": "ipython3",
   "version": "3.13.0"
  }
 },
 "nbformat": 4,
 "nbformat_minor": 2
}
