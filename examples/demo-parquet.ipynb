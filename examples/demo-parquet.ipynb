{
 "cells": [
  {
   "cell_type": "markdown",
   "metadata": {},
   "source": [
    "# `virtual`: Parquet Demo"
   ]
  },
  {
   "cell_type": "code",
   "execution_count": 1,
   "metadata": {},
   "outputs": [],
   "source": [
    "%reload_ext autoreload\n",
    "%autoreload 2\n",
    "\n",
    "import virtual\n",
    "\n",
    "parquet_filepath = 'example.parquet'"
   ]
  },
  {
   "cell_type": "markdown",
   "metadata": {},
   "source": [
    "### One-shot table compression"
   ]
  },
  {
   "cell_type": "code",
   "execution_count": 2,
   "metadata": {},
   "outputs": [
    {
     "name": "stdout",
     "output_type": "stream",
     "text": [
      "Running schema inference..\n",
      "Drilling functions..\n",
      "We found 4 function(s) in your table.\n",
      "Creating the virtual file..\n"
     ]
    }
   ],
   "source": [
    "# Save in Parquet format.\n",
    "virtual.to_format(parquet_filepath, 'example_virtual.parquet', model_types=['sparse-lr'], prefix='demo-debug/')"
   ]
  },
  {
   "cell_type": "markdown",
   "metadata": {},
   "source": [
    "### Compare to vanilla `Parquet`"
   ]
  },
  {
   "cell_type": "code",
   "execution_count": 3,
   "metadata": {},
   "outputs": [
    {
     "name": "stdout",
     "output_type": "stream",
     "text": [
      "Parquet: 44078 bytes\n",
      "Virtual: 36814 bytes\n"
     ]
    }
   ],
   "source": [
    "import os\n",
    "\n",
    "print(f'Parquet: {os.path.getsize('example.parquet')} bytes')\n",
    "print(f'Virtual: {os.path.getsize('example_virtual.parquet')} bytes')"
   ]
  },
  {
   "cell_type": "markdown",
   "metadata": {},
   "source": [
    "### Exploring functions"
   ]
  },
  {
   "cell_type": "code",
   "execution_count": 4,
   "metadata": {},
   "outputs": [
    {
     "name": "stdout",
     "output_type": "stream",
     "text": [
      "Drilling functions..\n",
      "We found 4 function(s) in your table.\n"
     ]
    },
    {
     "data": {
      "text/plain": [
       "[{'target_index': 0,\n",
       "  'target_name': 'Earnings Year',\n",
       "  'target_stats': {'mean': np.float64(2019.6546546546547),\n",
       "   'max': 2022.0,\n",
       "   'min': 2010.0},\n",
       "  'models': {'sparse-lr': {'mse': 1.8555809279793827,\n",
       "    'intercept': np.float64(2019.5465662140489),\n",
       "    'coeffs': [{'col-index': 8,\n",
       "      'col-name': 'Overtime Earnings',\n",
       "      'coeff': np.float64(3.5580390904300555e-05)},\n",
       "     {'col-index': 9,\n",
       "      'col-name': 'Total Earnings',\n",
       "      'coeff': np.float64(2.492262333726554e-06)}]}}},\n",
       " {'target_index': 7,\n",
       "  'target_name': 'Regular Earnings',\n",
       "  'target_stats': {'mean': np.float64(31553.40951951952),\n",
       "   'max': 202038.13,\n",
       "   'min': 0.78},\n",
       "  'models': {'sparse-lr': {'mse': 2.6357838956405258e-11,\n",
       "    'intercept': np.float64(-3.637978807091713e-12),\n",
       "    'coeffs': [{'col-index': 8,\n",
       "      'col-name': 'Overtime Earnings',\n",
       "      'coeff': np.float64(-0.9999999999999871)},\n",
       "     {'col-index': 9,\n",
       "      'col-name': 'Total Earnings',\n",
       "      'coeff': np.float64(0.9999999999999998)}]}}},\n",
       " {'target_index': 8,\n",
       "  'target_name': 'Overtime Earnings',\n",
       "  'target_stats': {'mean': np.float64(773.4965665665667),\n",
       "   'max': 21905.28,\n",
       "   'min': 0.0},\n",
       "  'models': {'sparse-lr': {'mse': 4.863951179263873e-11,\n",
       "    'intercept': np.float64(5.559286364587024e-11),\n",
       "    'coeffs': [{'col-index': 7,\n",
       "      'col-name': 'Regular Earnings',\n",
       "      'coeff': np.float64(-1.0000000000000022)},\n",
       "     {'col-index': 9,\n",
       "      'col-name': 'Total Earnings',\n",
       "      'coeff': np.float64(1.0000000000000004)}]}}},\n",
       " {'target_index': 9,\n",
       "  'target_name': 'Total Earnings',\n",
       "  'target_stats': {'mean': np.float64(32326.906086086085),\n",
       "   'max': 202038.13,\n",
       "   'min': 0.78},\n",
       "  'models': {'sparse-lr': {'mse': 5.6050884714671134e-11,\n",
       "    'intercept': np.float64(-6.184563972055912e-11),\n",
       "    'coeffs': [{'col-index': 7,\n",
       "      'col-name': 'Regular Earnings',\n",
       "      'coeff': np.float64(1.000000000000002)},\n",
       "     {'col-index': 8,\n",
       "      'col-name': 'Overtime Earnings',\n",
       "      'coeff': np.float64(1.0000000000000004)}]}}}]"
      ]
     },
     "execution_count": 4,
     "metadata": {},
     "output_type": "execute_result"
    }
   ],
   "source": [
    "# Drill the functions.\n",
    "functions = virtual.train(parquet_filepath, model_types=['sparse-lr'], prefix='./demo-debug/')\n",
    "\n",
    "functions"
   ]
  },
  {
   "cell_type": "markdown",
   "metadata": {},
   "source": [
    "### Compress with functions"
   ]
  },
  {
   "cell_type": "code",
   "execution_count": 5,
   "metadata": {},
   "outputs": [
    {
     "name": "stdout",
     "output_type": "stream",
     "text": [
      "Running schema inference..\n",
      "Creating the virtual file..\n"
     ]
    }
   ],
   "source": [
    "# Use them for compression.\n",
    "virtual.to_format(parquet_filepath, 'example_virtual.parquet', functions)"
   ]
  },
  {
   "cell_type": "markdown",
   "metadata": {},
   "source": [
    "### Read the file"
   ]
  },
  {
   "cell_type": "code",
   "execution_count": 6,
   "metadata": {},
   "outputs": [],
   "source": [
    "df = virtual.from_format('example_virtual.parquet')"
   ]
  },
  {
   "cell_type": "markdown",
   "metadata": {},
   "source": [
    "### Query the vanilla Parquet file"
   ]
  },
  {
   "cell_type": "code",
   "execution_count": 7,
   "metadata": {},
   "outputs": [
    {
     "data": {
      "text/html": [
       "<div>\n",
       "<style scoped>\n",
       "    .dataframe tbody tr th:only-of-type {\n",
       "        vertical-align: middle;\n",
       "    }\n",
       "\n",
       "    .dataframe tbody tr th {\n",
       "        vertical-align: top;\n",
       "    }\n",
       "\n",
       "    .dataframe thead th {\n",
       "        text-align: right;\n",
       "    }\n",
       "</style>\n",
       "<table border=\"1\" class=\"dataframe\">\n",
       "  <thead>\n",
       "    <tr style=\"text-align: right;\">\n",
       "      <th></th>\n",
       "      <th>avg(\"Total Earnings\")</th>\n",
       "    </tr>\n",
       "  </thead>\n",
       "  <tbody>\n",
       "    <tr>\n",
       "      <th>0</th>\n",
       "      <td>32326.906086</td>\n",
       "    </tr>\n",
       "  </tbody>\n",
       "</table>\n",
       "</div>"
      ],
      "text/plain": [
       "   avg(\"Total Earnings\")\n",
       "0           32326.906086"
      ]
     },
     "execution_count": 7,
     "metadata": {},
     "output_type": "execute_result"
    }
   ],
   "source": [
    "import duckdb\n",
    "\n",
    "duckdb.sql('select avg(\"Total Earnings\") from read_parquet(\"example.parquet\")').df()"
   ]
  },
  {
   "cell_type": "markdown",
   "metadata": {},
   "source": [
    "### Query the virtualized Parquet file"
   ]
  },
  {
   "cell_type": "code",
   "execution_count": 8,
   "metadata": {},
   "outputs": [
    {
     "data": {
      "text/html": [
       "<div>\n",
       "<style scoped>\n",
       "    .dataframe tbody tr th:only-of-type {\n",
       "        vertical-align: middle;\n",
       "    }\n",
       "\n",
       "    .dataframe tbody tr th {\n",
       "        vertical-align: top;\n",
       "    }\n",
       "\n",
       "    .dataframe thead th {\n",
       "        text-align: right;\n",
       "    }\n",
       "</style>\n",
       "<table border=\"1\" class=\"dataframe\">\n",
       "  <thead>\n",
       "    <tr style=\"text-align: right;\">\n",
       "      <th></th>\n",
       "      <th>avg(\"Total Earnings\")</th>\n",
       "    </tr>\n",
       "  </thead>\n",
       "  <tbody>\n",
       "    <tr>\n",
       "      <th>0</th>\n",
       "      <td>32326.906086</td>\n",
       "    </tr>\n",
       "  </tbody>\n",
       "</table>\n",
       "</div>"
      ],
      "text/plain": [
       "   avg(\"Total Earnings\")\n",
       "0           32326.906086"
      ]
     },
     "execution_count": 8,
     "metadata": {},
     "output_type": "execute_result"
    }
   ],
   "source": [
    "virtual.query(\n",
    "  'select avg(\"Total Earnings\") from read_parquet(\"example_virtual.parquet\")',\n",
    "  engine = 'duckdb'\n",
    ")"
   ]
  }
 ],
 "metadata": {
  "kernelspec": {
   "display_name": ".venv",
   "language": "python",
   "name": "python3"
  },
  "language_info": {
   "codemirror_mode": {
    "name": "ipython",
    "version": 3
   },
   "file_extension": ".py",
   "mimetype": "text/x-python",
   "name": "python",
   "nbconvert_exporter": "python",
   "pygments_lexer": "ipython3",
   "version": "3.13.0"
  }
 },
 "nbformat": 4,
 "nbformat_minor": 2
}
