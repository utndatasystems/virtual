{
 "cells": [
  {
   "cell_type": "markdown",
   "metadata": {},
   "source": [
    "# `virtual`: Parquet Demo"
   ]
  },
  {
   "cell_type": "code",
   "execution_count": 1,
   "metadata": {},
   "outputs": [],
   "source": [
    "%reload_ext autoreload\n",
    "%autoreload 2\n",
    "\n",
    "import virtual\n",
    "\n",
    "parquet_filepath = 'example.parquet'"
   ]
  },
  {
   "cell_type": "markdown",
   "metadata": {},
   "source": [
    "### One-shot table virtualization"
   ]
  },
  {
   "cell_type": "code",
   "execution_count": 2,
   "metadata": {},
   "outputs": [
    {
     "name": "stdout",
     "output_type": "stream",
     "text": [
      "Running schema inference..\n",
      "Drilling functions..\n",
      "{'num': {'indices': [0, 7, 8, 9], 'names': ['Earnings Year', 'Regular Earnings', 'Overtime Earnings', 'Total Earnings']}, 'date': {'indices': [], 'names': []}, 'timestamp': {'indices': [], 'names': []}, 'time': {'indices': [], 'names': []}, 'other': {'indices': [], 'names': []}, 'string': {'indices': [1, 2, 3, 4, 5, 6], 'names': ['Department', 'Employee Name', 'Position Title', 'Union Name', 'Regular or Temporary', 'Full or Part Time']}, 'boolean': {'indices': [], 'names': []}}\n",
      "4\n",
      "We found 2 function(s) in your table.\n",
      "[{'target-index': 0, 'target-name': 'Earnings Year', 'target-stats': {'mean': np.float64(2019.6546546546547), 'max': 2022.0, 'min': 2010.0}, 'models': {'sparse-lr': {'mse': 1.8572998848441455, 'intercept': np.float64(2019.553519802266), 'coeffs': [{'col-index': 7, 'col-name': 'Regular Earnings', 'coeff': np.float64(3.2051956960837913e-06)}]}}}, {'target-index': 9, 'target-name': 'Total Earnings', 'target-stats': {'mean': np.float64(32326.906086086085), 'max': 202038.13, 'min': 0.78}, 'models': {'sparse-lr': {'mse': 5.6050884714671134e-11, 'intercept': np.float64(-6.184563972055912e-11), 'coeffs': [{'col-index': 7, 'col-name': 'Regular Earnings', 'coeff': np.float64(1.000000000000002)}, {'col-index': 8, 'col-name': 'Overtime Earnings', 'coeff': np.float64(1.0000000000000004)}]}}}]\n",
      "{'target-index': 0, 'target-name': 'Earnings Year', 'target-stats': {'mean': np.float64(2019.6546546546547), 'max': 2022.0, 'min': 2010.0}, 'models': {'sparse-lr': {'mse': 1.8572998848441455, 'intercept': np.float64(2019.553519802266), 'coeffs': [{'col-index': 7, 'col-name': 'Regular Earnings', 'coeff': np.float64(3.2051956960837913e-06)}]}}}\n",
      "{'sparse-lr': {'mse': 1.8572998848441455, 'intercept': np.float64(2019.553519802266), 'coeffs': [{'col-index': 7, 'col-name': 'Regular Earnings', 'coeff': np.float64(3.2051956960837913e-06)}]}}\n",
      "{'target-index': 9, 'target-name': 'Total Earnings', 'target-stats': {'mean': np.float64(32326.906086086085), 'max': 202038.13, 'min': 0.78}, 'models': {'sparse-lr': {'mse': 5.6050884714671134e-11, 'intercept': np.float64(-6.184563972055912e-11), 'coeffs': [{'col-index': 7, 'col-name': 'Regular Earnings', 'coeff': np.float64(1.000000000000002)}, {'col-index': 8, 'col-name': 'Overtime Earnings', 'coeff': np.float64(1.0000000000000004)}]}}}\n",
      "{'sparse-lr': {'mse': 5.6050884714671134e-11, 'intercept': np.float64(-6.184563972055912e-11), 'coeffs': [{'col-index': 7, 'col-name': 'Regular Earnings', 'coeff': np.float64(1.000000000000002)}, {'col-index': 8, 'col-name': 'Overtime Earnings', 'coeff': np.float64(1.0000000000000004)}]}}\n",
      "{'sparse-lr'}\n",
      "before:\n",
      "['sparse-lr']\n",
      "[ModelType(name=sparse-lr)]\n",
      "Earnings Year sparse-lr -25\n",
      "Total Earnings sparse-lr 6916\n",
      "Creating the virtual file..\n"
     ]
    }
   ],
   "source": [
    "# Save in Parquet format.\n",
    "virtual.to_format(parquet_filepath, 'example_virtual.parquet', model_types=['sparse-lr'], prefix='demo-debug/')"
   ]
  },
  {
   "cell_type": "markdown",
   "metadata": {},
   "source": [
    "### Compare to vanilla `Parquet`"
   ]
  },
  {
   "cell_type": "code",
   "execution_count": 3,
   "metadata": {},
   "outputs": [
    {
     "name": "stdout",
     "output_type": "stream",
     "text": [
      "[example] Parquet: 44078 bytes\n",
      "[example] Virtual: 36815 bytes\n"
     ]
    }
   ],
   "source": [
    "import os\n",
    "\n",
    "table = os.path.splitext(os.path.basename(parquet_filepath))[0]\n",
    "print(f'[{table}] Parquet: {os.path.getsize('example.parquet')} bytes')\n",
    "print(f'[{table}] Virtual: {os.path.getsize('example_virtual.parquet')} bytes')"
   ]
  },
  {
   "cell_type": "markdown",
   "metadata": {},
   "source": [
    "### Exploring functions"
   ]
  },
  {
   "cell_type": "code",
   "execution_count": 4,
   "metadata": {},
   "outputs": [
    {
     "name": "stdout",
     "output_type": "stream",
     "text": [
      "Drilling functions..\n",
      "{'num': {'indices': [0, 7, 8, 9], 'names': ['Earnings Year', 'Regular Earnings', 'Overtime Earnings', 'Total Earnings']}, 'date': {'indices': [], 'names': []}, 'timestamp': {'indices': [], 'names': []}, 'time': {'indices': [], 'names': []}, 'other': {'indices': [], 'names': []}, 'string': {'indices': [1, 2, 3, 4, 5, 6], 'names': ['Department', 'Employee Name', 'Position Title', 'Union Name', 'Regular or Temporary', 'Full or Part Time']}, 'boolean': {'indices': [], 'names': []}}\n",
      "4\n",
      "We found 2 function(s) in your table.\n"
     ]
    },
    {
     "data": {
      "text/plain": [
       "[{'target-index': 0,\n",
       "  'target-name': 'Earnings Year',\n",
       "  'target-stats': {'mean': np.float64(2019.6546546546547),\n",
       "   'max': 2022.0,\n",
       "   'min': 2010.0},\n",
       "  'models': {'sparse-lr': {'mse': 1.8572998848441455,\n",
       "    'intercept': np.float64(2019.553519802266),\n",
       "    'coeffs': [{'col-index': 7,\n",
       "      'col-name': 'Regular Earnings',\n",
       "      'coeff': np.float64(3.2051956960837913e-06)}]}}},\n",
       " {'target-index': 9,\n",
       "  'target-name': 'Total Earnings',\n",
       "  'target-stats': {'mean': np.float64(32326.906086086085),\n",
       "   'max': 202038.13,\n",
       "   'min': 0.78},\n",
       "  'models': {'sparse-lr': {'mse': 5.6050884714671134e-11,\n",
       "    'intercept': np.float64(-6.184563972055912e-11),\n",
       "    'coeffs': [{'col-index': 7,\n",
       "      'col-name': 'Regular Earnings',\n",
       "      'coeff': np.float64(1.000000000000002)},\n",
       "     {'col-index': 8,\n",
       "      'col-name': 'Overtime Earnings',\n",
       "      'coeff': np.float64(1.0000000000000004)}]}}}]"
      ]
     },
     "execution_count": 4,
     "metadata": {},
     "output_type": "execute_result"
    }
   ],
   "source": [
    "# Drill the functions.\n",
    "functions = virtual.train(parquet_filepath, model_types=['sparse-lr'], prefix='./demo-debug/')\n",
    "\n",
    "functions"
   ]
  },
  {
   "cell_type": "markdown",
   "metadata": {},
   "source": [
    "### Compress with functions"
   ]
  },
  {
   "cell_type": "code",
   "execution_count": 5,
   "metadata": {},
   "outputs": [
    {
     "name": "stdout",
     "output_type": "stream",
     "text": [
      "Running schema inference..\n",
      "[{'target-index': 0, 'target-name': 'Earnings Year', 'target-stats': {'mean': np.float64(2019.6546546546547), 'max': 2022.0, 'min': 2010.0}, 'models': {'sparse-lr': {'mse': 1.8572998848441455, 'intercept': np.float64(2019.553519802266), 'coeffs': [{'col-index': 7, 'col-name': 'Regular Earnings', 'coeff': np.float64(3.2051956960837913e-06)}]}}}, {'target-index': 9, 'target-name': 'Total Earnings', 'target-stats': {'mean': np.float64(32326.906086086085), 'max': 202038.13, 'min': 0.78}, 'models': {'sparse-lr': {'mse': 5.6050884714671134e-11, 'intercept': np.float64(-6.184563972055912e-11), 'coeffs': [{'col-index': 7, 'col-name': 'Regular Earnings', 'coeff': np.float64(1.000000000000002)}, {'col-index': 8, 'col-name': 'Overtime Earnings', 'coeff': np.float64(1.0000000000000004)}]}}}]\n",
      "{'target-index': 0, 'target-name': 'Earnings Year', 'target-stats': {'mean': np.float64(2019.6546546546547), 'max': 2022.0, 'min': 2010.0}, 'models': {'sparse-lr': {'mse': 1.8572998848441455, 'intercept': np.float64(2019.553519802266), 'coeffs': [{'col-index': 7, 'col-name': 'Regular Earnings', 'coeff': np.float64(3.2051956960837913e-06)}]}}}\n",
      "{'sparse-lr': {'mse': 1.8572998848441455, 'intercept': np.float64(2019.553519802266), 'coeffs': [{'col-index': 7, 'col-name': 'Regular Earnings', 'coeff': np.float64(3.2051956960837913e-06)}]}}\n",
      "{'target-index': 9, 'target-name': 'Total Earnings', 'target-stats': {'mean': np.float64(32326.906086086085), 'max': 202038.13, 'min': 0.78}, 'models': {'sparse-lr': {'mse': 5.6050884714671134e-11, 'intercept': np.float64(-6.184563972055912e-11), 'coeffs': [{'col-index': 7, 'col-name': 'Regular Earnings', 'coeff': np.float64(1.000000000000002)}, {'col-index': 8, 'col-name': 'Overtime Earnings', 'coeff': np.float64(1.0000000000000004)}]}}}\n",
      "{'sparse-lr': {'mse': 5.6050884714671134e-11, 'intercept': np.float64(-6.184563972055912e-11), 'coeffs': [{'col-index': 7, 'col-name': 'Regular Earnings', 'coeff': np.float64(1.000000000000002)}, {'col-index': 8, 'col-name': 'Overtime Earnings', 'coeff': np.float64(1.0000000000000004)}]}}\n",
      "{'sparse-lr'}\n",
      "before:\n",
      "{'sparse-lr'}\n",
      "[ModelType(name=sparse-lr)]\n",
      "Earnings Year sparse-lr -25\n",
      "Total Earnings sparse-lr 6916\n",
      "Creating the virtual file..\n"
     ]
    }
   ],
   "source": [
    "# Use them for compression.\n",
    "virtual.to_format(parquet_filepath, 'example_virtual.parquet', functions)"
   ]
  },
  {
   "cell_type": "markdown",
   "metadata": {},
   "source": [
    "### Read the file"
   ]
  },
  {
   "cell_type": "code",
   "execution_count": 6,
   "metadata": {},
   "outputs": [
    {
     "name": "stdout",
     "output_type": "stream",
     "text": [
      "{'header': ['Employee Name', 'Regular Earnings', 'Position Title', 'Overtime Earnings', 'Full or Part Time', 'Union Name', 'Earnings Year', 'Department', 'Regular or Temporary'], 'functions': {'greedy': {'obj-value': 6916, 'chosen': [{'target-index': 9, 'target-name': 'Total Earnings', 'model-type': 'sparse-lr', 'sparse-lr': {'mse': 5.6050884714671134e-11, 'intercept': -6.184563972055912e-11, 'coeffs': [{'col-index': 7, 'col-name': 'Regular Earnings', 'coeff': 1.000000000000002}, {'col-index': 8, 'col-name': 'Overtime Earnings', 'coeff': 1.0000000000000004}]}, 'left': [7, 8], 'right': 9, 'gain': 6916}], 'time': 9.059906005859375e-06}}}\n"
     ]
    },
    {
     "ename": "KeyError",
     "evalue": "'schema'",
     "output_type": "error",
     "traceback": [
      "\u001b[31m---------------------------------------------------------------------------\u001b[39m",
      "\u001b[31mKeyError\u001b[39m                                  Traceback (most recent call last)",
      "\u001b[36mCell\u001b[39m\u001b[36m \u001b[39m\u001b[32mIn[6]\u001b[39m\u001b[32m, line 1\u001b[39m\n\u001b[32m----> \u001b[39m\u001b[32m1\u001b[39m df = \u001b[43mvirtual\u001b[49m\u001b[43m.\u001b[49m\u001b[43mfrom_format\u001b[49m\u001b[43m(\u001b[49m\u001b[33;43m'\u001b[39;49m\u001b[33;43mexample_virtual.parquet\u001b[39;49m\u001b[33;43m'\u001b[39;49m\u001b[43m)\u001b[49m\n\u001b[32m      3\u001b[39m df.head(\u001b[32m5\u001b[39m)\n",
      "\u001b[36mFile \u001b[39m\u001b[32m~/Documents/utn/hf/virtual/virtual/interface.py:233\u001b[39m, in \u001b[36mfrom_format\u001b[39m\u001b[34m(format_path, functions, schema)\u001b[39m\n\u001b[32m    230\u001b[39m   sql_query = \u001b[33mf\u001b[39m\u001b[33m'\u001b[39m\u001b[33mselect \u001b[39m\u001b[38;5;132;01m{\u001b[39;00mselect_clause\u001b[38;5;132;01m}\u001b[39;00m\u001b[33m from read_csv(\u001b[39m\u001b[33m\"\u001b[39m\u001b[38;5;132;01m{\u001b[39;00mformat_path\u001b[38;5;132;01m}\u001b[39;00m\u001b[33m\"\u001b[39m\u001b[33m);\u001b[39m\u001b[33m'\u001b[39m\n\u001b[32m    232\u001b[39m \u001b[38;5;66;03m# Query.\u001b[39;00m\n\u001b[32m--> \u001b[39m\u001b[32m233\u001b[39m df = \u001b[43mquery\u001b[49m\u001b[43m(\u001b[49m\u001b[43msql_query\u001b[49m\u001b[43m,\u001b[49m\u001b[43m \u001b[49m\u001b[43mfunctions\u001b[49m\u001b[43m=\u001b[49m\u001b[43mfunctions\u001b[49m\u001b[43m,\u001b[49m\u001b[43m \u001b[49m\u001b[43mschema\u001b[49m\u001b[43m=\u001b[49m\u001b[43mschema\u001b[49m\u001b[43m,\u001b[49m\u001b[43m \u001b[49m\u001b[43mengine\u001b[49m\u001b[43m=\u001b[49m\u001b[33;43m'\u001b[39;49m\u001b[33;43mduckdb\u001b[39;49m\u001b[33;43m'\u001b[39;49m\u001b[43m)\u001b[49m\n\u001b[32m    235\u001b[39m \u001b[38;5;66;03m# And return.\u001b[39;00m\n\u001b[32m    236\u001b[39m \u001b[38;5;28;01mreturn\u001b[39;00m df\n",
      "\u001b[36mFile \u001b[39m\u001b[32m~/Documents/utn/hf/virtual/virtual/interface.py:308\u001b[39m, in \u001b[36mquery\u001b[39m\u001b[34m(sql_query, functions, schema, engine, run, fancy, return_execution_time)\u001b[39m\n\u001b[32m    306\u001b[39m \u001b[38;5;28;01mif\u001b[39;00m format_type == \u001b[33m'\u001b[39m\u001b[33mparquet\u001b[39m\u001b[33m'\u001b[39m:\n\u001b[32m    307\u001b[39m   \u001b[38;5;28mprint\u001b[39m(format_metadata)\n\u001b[32m--> \u001b[39m\u001b[32m308\u001b[39m   \u001b[38;5;28;01massert\u001b[39;00m format_metadata \u001b[38;5;129;01mis\u001b[39;00m \u001b[38;5;129;01mnot\u001b[39;00m \u001b[38;5;28;01mNone\u001b[39;00m \u001b[38;5;129;01mand\u001b[39;00m \u001b[43mformat_metadata\u001b[49m\u001b[43m[\u001b[49m\u001b[33;43m'\u001b[39;49m\u001b[33;43mschema\u001b[39;49m\u001b[33;43m'\u001b[39;49m\u001b[43m]\u001b[49m, \u001b[33m'\u001b[39m\u001b[33mYour virtualized Parquet file doesn\u001b[39m\u001b[38;5;130;01m\\'\u001b[39;00m\u001b[33mt have the necessary metadata.\u001b[39m\u001b[33m'\u001b[39m\n\u001b[32m    309\u001b[39m   functions = format_metadata[\u001b[33m'\u001b[39m\u001b[33mfunctions\u001b[39m\u001b[33m'\u001b[39m]\n\u001b[32m    310\u001b[39m \u001b[38;5;28;01melif\u001b[39;00m format_type == \u001b[33m'\u001b[39m\u001b[33mcsv\u001b[39m\u001b[33m'\u001b[39m:\n",
      "\u001b[31mKeyError\u001b[39m: 'schema'"
     ]
    }
   ],
   "source": [
    "df = virtual.from_format('example_virtual.parquet')\n",
    "\n",
    "df.head(5)"
   ]
  },
  {
   "cell_type": "markdown",
   "metadata": {},
   "source": [
    "### Query the vanilla Parquet file"
   ]
  },
  {
   "cell_type": "code",
   "execution_count": 7,
   "metadata": {},
   "outputs": [
    {
     "data": {
      "text/html": [
       "<div>\n",
       "<style scoped>\n",
       "    .dataframe tbody tr th:only-of-type {\n",
       "        vertical-align: middle;\n",
       "    }\n",
       "\n",
       "    .dataframe tbody tr th {\n",
       "        vertical-align: top;\n",
       "    }\n",
       "\n",
       "    .dataframe thead th {\n",
       "        text-align: right;\n",
       "    }\n",
       "</style>\n",
       "<table border=\"1\" class=\"dataframe\">\n",
       "  <thead>\n",
       "    <tr style=\"text-align: right;\">\n",
       "      <th></th>\n",
       "      <th>avg(\"Total Earnings\")</th>\n",
       "    </tr>\n",
       "  </thead>\n",
       "  <tbody>\n",
       "    <tr>\n",
       "      <th>0</th>\n",
       "      <td>32326.906086</td>\n",
       "    </tr>\n",
       "  </tbody>\n",
       "</table>\n",
       "</div>"
      ],
      "text/plain": [
       "   avg(\"Total Earnings\")\n",
       "0           32326.906086"
      ]
     },
     "execution_count": 7,
     "metadata": {},
     "output_type": "execute_result"
    }
   ],
   "source": [
    "import duckdb\n",
    "\n",
    "duckdb.sql('select avg(\"Total Earnings\") from read_parquet(\"example.parquet\")').df()"
   ]
  },
  {
   "cell_type": "markdown",
   "metadata": {},
   "source": [
    "### Query the virtualized Parquet file"
   ]
  },
  {
   "cell_type": "code",
   "execution_count": 8,
   "metadata": {},
   "outputs": [
    {
     "name": "stdout",
     "output_type": "stream",
     "text": [
      "{'header': ['Employee Name', 'Regular Earnings', 'Position Title', 'Overtime Earnings', 'Full or Part Time', 'Union Name', 'Earnings Year', 'Department', 'Regular or Temporary'], 'schema': [{'name': 'Earnings Year', 'type': 'BIGINT', 'null': {'any': False, 'all': False}, 'scale': 0, 'precision': 0}, {'name': 'Department', 'type': 'VARCHAR', 'null': {'any': False, 'all': False}, 'scale': 0, 'precision': 0}, {'name': 'Employee Name', 'type': 'VARCHAR', 'null': {'any': False, 'all': False}, 'scale': 0, 'precision': 0}, {'name': 'Position Title', 'type': 'VARCHAR', 'null': {'any': False, 'all': False}, 'scale': 0, 'precision': 0}, {'name': 'Union Name', 'type': 'VARCHAR', 'null': {'any': False, 'all': False}, 'scale': 0, 'precision': 0}, {'name': 'Regular or Temporary', 'type': 'VARCHAR', 'null': {'any': False, 'all': False}, 'scale': 0, 'precision': 0}, {'name': 'Full or Part Time', 'type': 'VARCHAR', 'null': {'any': False, 'all': False}, 'scale': 0, 'precision': 0}, {'name': 'Regular Earnings', 'type': 'DOUBLE', 'null': {'any': False, 'all': False}, 'scale': 2, 'precision': 8}, {'name': 'Overtime Earnings', 'type': 'DOUBLE', 'null': {'any': False, 'all': False}, 'scale': 2, 'precision': 7}, {'name': 'Total Earnings', 'type': 'DOUBLE', 'null': {'any': False, 'all': False}, 'scale': 2, 'precision': 8}], 'functions': {'greedy': {'obj-value': 6916, 'chosen': [{'target-index': 9, 'target-name': 'Total Earnings', 'model-type': 'sparse-lr', 'sparse-lr': {'mse': 5.6050884714671134e-11, 'intercept': -6.184563972055912e-11, 'coeffs': [{'col-index': 7, 'col-name': 'Regular Earnings', 'coeff': 1.000000000000002}, {'col-index': 8, 'col-name': 'Overtime Earnings', 'coeff': 1.0000000000000004}]}, 'left': [7, 8], 'right': 9, 'gain': 6916}], 'time': 9.059906005859375e-06}}}\n"
     ]
    },
    {
     "data": {
      "text/html": [
       "<div>\n",
       "<style scoped>\n",
       "    .dataframe tbody tr th:only-of-type {\n",
       "        vertical-align: middle;\n",
       "    }\n",
       "\n",
       "    .dataframe tbody tr th {\n",
       "        vertical-align: top;\n",
       "    }\n",
       "\n",
       "    .dataframe thead th {\n",
       "        text-align: right;\n",
       "    }\n",
       "</style>\n",
       "<table border=\"1\" class=\"dataframe\">\n",
       "  <thead>\n",
       "    <tr style=\"text-align: right;\">\n",
       "      <th></th>\n",
       "      <th>avg(\"Total Earnings\")</th>\n",
       "    </tr>\n",
       "  </thead>\n",
       "  <tbody>\n",
       "    <tr>\n",
       "      <th>0</th>\n",
       "      <td>32326.906086</td>\n",
       "    </tr>\n",
       "  </tbody>\n",
       "</table>\n",
       "</div>"
      ],
      "text/plain": [
       "   avg(\"Total Earnings\")\n",
       "0           32326.906086"
      ]
     },
     "execution_count": 8,
     "metadata": {},
     "output_type": "execute_result"
    }
   ],
   "source": [
    "virtual.query(\n",
    "  'select avg(\"Total Earnings\") from read_parquet(\"example_virtual.parquet\")',\n",
    "  engine = 'duckdb'\n",
    ")"
   ]
  }
 ],
 "metadata": {
  "kernelspec": {
   "display_name": ".venv",
   "language": "python",
   "name": "python3"
  },
  "language_info": {
   "codemirror_mode": {
    "name": "ipython",
    "version": 3
   },
   "file_extension": ".py",
   "mimetype": "text/x-python",
   "name": "python",
   "nbconvert_exporter": "python",
   "pygments_lexer": "ipython3",
   "version": "3.13.0"
  }
 },
 "nbformat": 4,
 "nbformat_minor": 2
}
