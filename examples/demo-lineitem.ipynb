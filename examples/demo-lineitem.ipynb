{
 "cells": [
  {
   "cell_type": "markdown",
   "metadata": {},
   "source": [
    "# `virtual`: `lineitem` Demo"
   ]
  },
  {
   "cell_type": "code",
   "execution_count": 1,
   "metadata": {},
   "outputs": [],
   "source": [
    "%load_ext autoreload\n",
    "%autoreload 2\n",
    "\n",
    "import virtual\n",
    "\n",
    "parquet_filepath = '../../demo/data/lineitem.parquet'"
   ]
  },
  {
   "cell_type": "markdown",
   "metadata": {},
   "source": [
    "### One-shot table compression"
   ]
  },
  {
   "cell_type": "code",
   "execution_count": 2,
   "metadata": {},
   "outputs": [
    {
     "name": "stdout",
     "output_type": "stream",
     "text": [
      "Drilling functions..\n",
      "{'num': {'indices': [0, 1, 2, 3, 4, 5, 6, 7], 'names': ['l_orderkey', 'l_partkey', 'l_suppkey', 'l_linenumber', 'l_quantity', 'l_extendedprice', 'l_discount', 'l_tax']}, 'time': {'indices': [], 'names': []}, 'date': {'indices': [10, 11, 12], 'names': ['l_shipdate', 'l_commitdate', 'l_receiptdate']}, 'string': {'indices': [8, 9, 13, 14, 15], 'names': ['l_returnflag', 'l_linestatus', 'l_shipinstruct', 'l_shipmode', 'l_comment']}, 'boolean': {'indices': [], 'names': []}}\n",
      "8\n",
      "We found 9 function(s) in your table.\n",
      "[{'target_index': 3, 'target_name': 'l_linenumber', 'target_stats': {'mean': np.float64(3.0007), 'max': 7.0, 'min': 1.0}, 'models': {'sparse-lr': {'mse': 1.735666816958929, 'intercept': np.float64(3.049352576319866), 'coeffs': [{'col-index': 7, 'col-name': 'l_tax', 'coeff': np.float64(-1.2043611238425027)}]}}}, {'target_index': 6, 'target_name': 'l_discount', 'target_stats': {'mean': np.float64(0.05014400000000001), 'max': 0.1, 'min': 0.0}, 'models': {'sparse-lr': {'mse': 0.03162881079790217, 'intercept': np.float64(0.04932748702868372), 'coeffs': [{'col-index': 4, 'col-name': 'l_quantity', 'coeff': np.float64(3.2138208685101205e-05)}]}}}, {'target_index': 7, 'target_name': 'l_tax', 'target_stats': {'mean': np.float64(0.04039700000000001), 'max': 0.08, 'min': 0.0}, 'models': {'sparse-lr': {'mse': 0.02572511333611063, 'intercept': np.float64(0.04119089154920751), 'coeffs': [{'col-index': 3, 'col-name': 'l_linenumber', 'coeff': np.float64(-0.00026456878368630717)}]}}}, {'target_index': 10, 'target_name': 'l_shipdate', 'models': {'custom-1': {'mse': 0, 'intercept': 0, 'coeffs': [{'col-index': 11, 'col-name': 'l_commitdate', 'coeff': 1.0}]}}}, {'target_index': 10, 'target_name': 'l_shipdate', 'models': {'custom-2': {'mse': 0, 'intercept': 0, 'coeffs': [{'col-index': 12, 'col-name': 'l_receiptdate', 'coeff': 1.0}]}}}, {'target_index': 11, 'target_name': 'l_commitdate', 'models': {'custom-0': {'mse': 0, 'intercept': 0, 'coeffs': [{'col-index': 10, 'col-name': 'l_shipdate', 'coeff': 1.0}]}}}, {'target_index': 11, 'target_name': 'l_commitdate', 'models': {'custom-2': {'mse': 0, 'intercept': 0, 'coeffs': [{'col-index': 12, 'col-name': 'l_receiptdate', 'coeff': 1.0}]}}}, {'target_index': 12, 'target_name': 'l_receiptdate', 'models': {'custom-0': {'mse': 0, 'intercept': 0, 'coeffs': [{'col-index': 10, 'col-name': 'l_shipdate', 'coeff': 1.0}]}}}, {'target_index': 12, 'target_name': 'l_receiptdate', 'models': {'custom-1': {'mse': 0, 'intercept': 0, 'coeffs': [{'col-index': 11, 'col-name': 'l_commitdate', 'coeff': 1.0}]}}}]\n",
      "{'target_index': 3, 'target_name': 'l_linenumber', 'target_stats': {'mean': np.float64(3.0007), 'max': 7.0, 'min': 1.0}, 'models': {'sparse-lr': {'mse': 1.735666816958929, 'intercept': np.float64(3.049352576319866), 'coeffs': [{'col-index': 7, 'col-name': 'l_tax', 'coeff': np.float64(-1.2043611238425027)}]}}}\n",
      "{'sparse-lr': {'mse': 1.735666816958929, 'intercept': np.float64(3.049352576319866), 'coeffs': [{'col-index': 7, 'col-name': 'l_tax', 'coeff': np.float64(-1.2043611238425027)}]}}\n",
      "{'target_index': 6, 'target_name': 'l_discount', 'target_stats': {'mean': np.float64(0.05014400000000001), 'max': 0.1, 'min': 0.0}, 'models': {'sparse-lr': {'mse': 0.03162881079790217, 'intercept': np.float64(0.04932748702868372), 'coeffs': [{'col-index': 4, 'col-name': 'l_quantity', 'coeff': np.float64(3.2138208685101205e-05)}]}}}\n",
      "{'sparse-lr': {'mse': 0.03162881079790217, 'intercept': np.float64(0.04932748702868372), 'coeffs': [{'col-index': 4, 'col-name': 'l_quantity', 'coeff': np.float64(3.2138208685101205e-05)}]}}\n",
      "{'target_index': 7, 'target_name': 'l_tax', 'target_stats': {'mean': np.float64(0.04039700000000001), 'max': 0.08, 'min': 0.0}, 'models': {'sparse-lr': {'mse': 0.02572511333611063, 'intercept': np.float64(0.04119089154920751), 'coeffs': [{'col-index': 3, 'col-name': 'l_linenumber', 'coeff': np.float64(-0.00026456878368630717)}]}}}\n",
      "{'sparse-lr': {'mse': 0.02572511333611063, 'intercept': np.float64(0.04119089154920751), 'coeffs': [{'col-index': 3, 'col-name': 'l_linenumber', 'coeff': np.float64(-0.00026456878368630717)}]}}\n",
      "{'target_index': 10, 'target_name': 'l_shipdate', 'models': {'custom-1': {'mse': 0, 'intercept': 0, 'coeffs': [{'col-index': 11, 'col-name': 'l_commitdate', 'coeff': 1.0}]}}}\n",
      "{'custom-1': {'mse': 0, 'intercept': 0, 'coeffs': [{'col-index': 11, 'col-name': 'l_commitdate', 'coeff': 1.0}]}}\n",
      "{'target_index': 10, 'target_name': 'l_shipdate', 'models': {'custom-2': {'mse': 0, 'intercept': 0, 'coeffs': [{'col-index': 12, 'col-name': 'l_receiptdate', 'coeff': 1.0}]}}}\n",
      "{'custom-2': {'mse': 0, 'intercept': 0, 'coeffs': [{'col-index': 12, 'col-name': 'l_receiptdate', 'coeff': 1.0}]}}\n",
      "{'target_index': 11, 'target_name': 'l_commitdate', 'models': {'custom-0': {'mse': 0, 'intercept': 0, 'coeffs': [{'col-index': 10, 'col-name': 'l_shipdate', 'coeff': 1.0}]}}}\n",
      "{'custom-0': {'mse': 0, 'intercept': 0, 'coeffs': [{'col-index': 10, 'col-name': 'l_shipdate', 'coeff': 1.0}]}}\n",
      "{'target_index': 11, 'target_name': 'l_commitdate', 'models': {'custom-2': {'mse': 0, 'intercept': 0, 'coeffs': [{'col-index': 12, 'col-name': 'l_receiptdate', 'coeff': 1.0}]}}}\n",
      "{'custom-2': {'mse': 0, 'intercept': 0, 'coeffs': [{'col-index': 12, 'col-name': 'l_receiptdate', 'coeff': 1.0}]}}\n",
      "{'target_index': 12, 'target_name': 'l_receiptdate', 'models': {'custom-0': {'mse': 0, 'intercept': 0, 'coeffs': [{'col-index': 10, 'col-name': 'l_shipdate', 'coeff': 1.0}]}}}\n",
      "{'custom-0': {'mse': 0, 'intercept': 0, 'coeffs': [{'col-index': 10, 'col-name': 'l_shipdate', 'coeff': 1.0}]}}\n",
      "{'target_index': 12, 'target_name': 'l_receiptdate', 'models': {'custom-1': {'mse': 0, 'intercept': 0, 'coeffs': [{'col-index': 11, 'col-name': 'l_commitdate', 'coeff': 1.0}]}}}\n",
      "{'custom-1': {'mse': 0, 'intercept': 0, 'coeffs': [{'col-index': 11, 'col-name': 'l_commitdate', 'coeff': 1.0}]}}\n",
      "{'custom-2', 'custom-1', 'custom-0', 'sparse-lr'}\n",
      "before:\n",
      "['sparse-lr', 'custom-2', 'custom-1', 'custom-0']\n",
      "[ModelType(name=sparse-lr), ModelType(name=custom-2), ModelType(name=custom-1), ModelType(name=custom-0)]\n",
      "l_linenumber sparse-lr -12\n",
      "l_discount sparse-lr -24\n",
      "l_tax sparse-lr -23\n",
      "l_shipdate custom-1 34338\n",
      "l_shipdate custom-2 53696\n",
      "l_commitdate custom-0 34106\n",
      "l_commitdate custom-2 34006\n",
      "l_receiptdate custom-0 53715\n",
      "l_receiptdate custom-1 34258\n",
      "Creating the virtual file..\n"
     ]
    }
   ],
   "source": [
    "# Save in Parquet format.\n",
    "virtual.to_format(parquet_filepath, 'lineitem_virtual.parquet', schema='./demo-debug/schema_lineitem.json', model_types=['sparse-lr', 'custom'], prefix='demo-debug/')"
   ]
  },
  {
   "cell_type": "markdown",
   "metadata": {},
   "source": [
    "### Compare to vanilla `Parquet`"
   ]
  },
  {
   "cell_type": "code",
   "execution_count": 3,
   "metadata": {},
   "outputs": [
    {
     "name": "stdout",
     "output_type": "stream",
     "text": [
      "[lineitem] Parquet: 255.970446 MB\n",
      "[lineitem] Virtual: 201.748569 MB\n"
     ]
    }
   ],
   "source": [
    "import os\n",
    "\n",
    "table = os.path.splitext(os.path.basename(parquet_filepath))[0]\n",
    "print(f'[{table}] Parquet: {os.path.getsize(parquet_filepath) / 1_000_000} MB')\n",
    "print(f'[{table}] Virtual: {os.path.getsize('lineitem_virtual.parquet') / 1_000_000} MB')"
   ]
  },
  {
   "cell_type": "markdown",
   "metadata": {},
   "source": [
    "### Query the vanilla Parquet file"
   ]
  },
  {
   "cell_type": "code",
   "execution_count": 6,
   "metadata": {},
   "outputs": [
    {
     "data": {
      "text/html": [
       "<div>\n",
       "<style scoped>\n",
       "    .dataframe tbody tr th:only-of-type {\n",
       "        vertical-align: middle;\n",
       "    }\n",
       "\n",
       "    .dataframe tbody tr th {\n",
       "        vertical-align: top;\n",
       "    }\n",
       "\n",
       "    .dataframe thead th {\n",
       "        text-align: right;\n",
       "    }\n",
       "</style>\n",
       "<table border=\"1\" class=\"dataframe\">\n",
       "  <thead>\n",
       "    <tr style=\"text-align: right;\">\n",
       "      <th></th>\n",
       "      <th>max(l_shipdate)</th>\n",
       "      <th>max(l_commitdate)</th>\n",
       "      <th>max(l_receiptdate)</th>\n",
       "    </tr>\n",
       "  </thead>\n",
       "  <tbody>\n",
       "    <tr>\n",
       "      <th>0</th>\n",
       "      <td>1998-12-01</td>\n",
       "      <td>1998-10-31</td>\n",
       "      <td>1998-12-31</td>\n",
       "    </tr>\n",
       "  </tbody>\n",
       "</table>\n",
       "</div>"
      ],
      "text/plain": [
       "  max(l_shipdate) max(l_commitdate) max(l_receiptdate)\n",
       "0      1998-12-01        1998-10-31         1998-12-31"
      ]
     },
     "execution_count": 6,
     "metadata": {},
     "output_type": "execute_result"
    }
   ],
   "source": [
    "import duckdb\n",
    "\n",
    "duckdb.sql(f\"select max(l_shipdate), max(l_commitdate), max(l_receiptdate) from read_parquet('{parquet_filepath}') limit 5\").df()"
   ]
  },
  {
   "cell_type": "markdown",
   "metadata": {},
   "source": [
    "### Query the virtualized Parquet file"
   ]
  },
  {
   "cell_type": "code",
   "execution_count": 7,
   "metadata": {},
   "outputs": [
    {
     "data": {
      "text/html": [
       "<div>\n",
       "<style scoped>\n",
       "    .dataframe tbody tr th:only-of-type {\n",
       "        vertical-align: middle;\n",
       "    }\n",
       "\n",
       "    .dataframe tbody tr th {\n",
       "        vertical-align: top;\n",
       "    }\n",
       "\n",
       "    .dataframe thead th {\n",
       "        text-align: right;\n",
       "    }\n",
       "</style>\n",
       "<table border=\"1\" class=\"dataframe\">\n",
       "  <thead>\n",
       "    <tr style=\"text-align: right;\">\n",
       "      <th></th>\n",
       "      <th>max((l_commitdate + l_shipdate_offset))</th>\n",
       "      <th>max(l_commitdate)</th>\n",
       "      <th>max(((l_commitdate + l_shipdate_offset) + l_receiptdate_offset))</th>\n",
       "    </tr>\n",
       "  </thead>\n",
       "  <tbody>\n",
       "    <tr>\n",
       "      <th>0</th>\n",
       "      <td>1998-12-01</td>\n",
       "      <td>1998-10-31</td>\n",
       "      <td>1998-12-31</td>\n",
       "    </tr>\n",
       "  </tbody>\n",
       "</table>\n",
       "</div>"
      ],
      "text/plain": [
       "  max((l_commitdate + l_shipdate_offset)) max(l_commitdate)  \\\n",
       "0                              1998-12-01        1998-10-31   \n",
       "\n",
       "  max(((l_commitdate + l_shipdate_offset) + l_receiptdate_offset))  \n",
       "0                                         1998-12-31                "
      ]
     },
     "execution_count": 7,
     "metadata": {},
     "output_type": "execute_result"
    }
   ],
   "source": [
    "virtual.query(\n",
    "  'select max(l_shipdate), max(l_commitdate), max(l_receiptdate) from read_parquet(\"lineitem_virtual.parquet\") limit 5',\n",
    "  engine = 'duckdb'\n",
    ")"
   ]
  }
 ],
 "metadata": {
  "kernelspec": {
   "display_name": ".venv",
   "language": "python",
   "name": "python3"
  },
  "language_info": {
   "codemirror_mode": {
    "name": "ipython",
    "version": 3
   },
   "file_extension": ".py",
   "mimetype": "text/x-python",
   "name": "python",
   "nbconvert_exporter": "python",
   "pygments_lexer": "ipython3",
   "version": "3.13.0"
  }
 },
 "nbformat": 4,
 "nbformat_minor": 2
}
