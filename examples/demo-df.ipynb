{
 "cells": [
  {
   "cell_type": "markdown",
   "metadata": {},
   "source": [
    "# `virtual`: DataFrame Demo"
   ]
  },
  {
   "cell_type": "code",
   "execution_count": 1,
   "metadata": {},
   "outputs": [],
   "source": [
    "%reload_ext autoreload\n",
    "%autoreload 2\n",
    "\n",
    "import pandas as pd\n",
    "import virtual\n",
    "\n",
    "df = pd.read_csv('example.csv')"
   ]
  },
  {
   "cell_type": "markdown",
   "metadata": {},
   "source": [
    "### One-shot table virtualization"
   ]
  },
  {
   "cell_type": "code",
   "execution_count": 2,
   "metadata": {},
   "outputs": [
    {
     "name": "stdout",
     "output_type": "stream",
     "text": [
      "Running schema inference..\n",
      "Drilling functions..\n",
      "We found 2 function candidate(s) in your table.\n",
      "Let's see how many benefit virtualization..\n",
      "It seems that 1 function(s) can indeed be used for virtualization.\n",
      "Creating the virtual file..\n",
      "Done.\n"
     ]
    }
   ],
   "source": [
    "# Save in Parquet format.\n",
    "virtual.to_format(df, 'example_virtual.csv', prefix='demo-debug/')"
   ]
  },
  {
   "cell_type": "markdown",
   "metadata": {},
   "source": [
    "### Compare to vanilla CSV"
   ]
  },
  {
   "cell_type": "code",
   "execution_count": 3,
   "metadata": {},
   "outputs": [
    {
     "name": "stdout",
     "output_type": "stream",
     "text": [
      "CSV: 122375 bytes\n",
      "Virtual: 112833 bytes\n"
     ]
    }
   ],
   "source": [
    "import os\n",
    "\n",
    "print(f'CSV: {os.path.getsize('example.csv')} bytes')\n",
    "print(f'Virtual: {os.path.getsize('example_virtual.csv')} bytes')"
   ]
  },
  {
   "cell_type": "markdown",
   "metadata": {},
   "source": [
    "### Exploring functions"
   ]
  },
  {
   "cell_type": "code",
   "execution_count": 4,
   "metadata": {},
   "outputs": [
    {
     "name": "stdout",
     "output_type": "stream",
     "text": [
      "Drilling functions..\n",
      "We found 2 function candidate(s) in your table.\n"
     ]
    },
    {
     "data": {
      "text/plain": [
       "[{'category': 'num',\n",
       "  'target-index': 0,\n",
       "  'target-name': 'Earnings Year',\n",
       "  'target-stats': {'mean': np.float64(2019.6546546546547),\n",
       "   'max': 2022.0,\n",
       "   'min': 2010.0},\n",
       "  'models': {'sparse-lr': {'mse': 1.8572998848441455,\n",
       "    'intercept': np.float64(2019.553519802266),\n",
       "    'coeffs': [{'col-index': 7,\n",
       "      'col-name': 'Regular Earnings',\n",
       "      'coeff': np.float64(3.205195696083787e-06)}]}}},\n",
       " {'category': 'num',\n",
       "  'target-index': 9,\n",
       "  'target-name': 'Total Earnings',\n",
       "  'target-stats': {'mean': np.float64(32326.906086086085),\n",
       "   'max': 202038.13,\n",
       "   'min': 0.78},\n",
       "  'models': {'sparse-lr': {'mse': 1.277106715403009e-11,\n",
       "    'intercept': np.float64(-1.4551915228366852e-11),\n",
       "    'coeffs': [{'col-index': 7,\n",
       "      'col-name': 'Regular Earnings',\n",
       "      'coeff': np.float64(1.0000000000000004)},\n",
       "     {'col-index': 8,\n",
       "      'col-name': 'Overtime Earnings',\n",
       "      'coeff': np.float64(1.0000000000000007)}]}}}]"
      ]
     },
     "execution_count": 4,
     "metadata": {},
     "output_type": "execute_result"
    }
   ],
   "source": [
    "# Drill the functions.\n",
    "functions = virtual.train(df, model_types=['sparse-lr'], prefix='./demo-debug/')\n",
    "\n",
    "functions"
   ]
  },
  {
   "cell_type": "markdown",
   "metadata": {},
   "source": [
    "### Compress with functions"
   ]
  },
  {
   "cell_type": "code",
   "execution_count": 5,
   "metadata": {},
   "outputs": [
    {
     "name": "stdout",
     "output_type": "stream",
     "text": [
      "Running schema inference..\n",
      "Let's see how many benefit virtualization..\n",
      "It seems that 1 function(s) can indeed be used for virtualization.\n",
      "Creating the virtual file..\n",
      "Done.\n"
     ]
    }
   ],
   "source": [
    "# Use them for compression.\n",
    "virtual.to_format(df, 'example_virtual.csv', functions)"
   ]
  },
  {
   "cell_type": "markdown",
   "metadata": {},
   "source": [
    "### Read the file"
   ]
  },
  {
   "cell_type": "code",
   "execution_count": 6,
   "metadata": {},
   "outputs": [
    {
     "data": {
      "text/html": [
       "<div>\n",
       "<style scoped>\n",
       "    .dataframe tbody tr th:only-of-type {\n",
       "        vertical-align: middle;\n",
       "    }\n",
       "\n",
       "    .dataframe tbody tr th {\n",
       "        vertical-align: top;\n",
       "    }\n",
       "\n",
       "    .dataframe thead th {\n",
       "        text-align: right;\n",
       "    }\n",
       "</style>\n",
       "<table border=\"1\" class=\"dataframe\">\n",
       "  <thead>\n",
       "    <tr style=\"text-align: right;\">\n",
       "      <th></th>\n",
       "      <th>Earnings Year</th>\n",
       "      <th>Department</th>\n",
       "      <th>Employee Name</th>\n",
       "      <th>Position Title</th>\n",
       "      <th>Union Name</th>\n",
       "      <th>Regular or Temporary</th>\n",
       "      <th>Full or Part Time</th>\n",
       "      <th>Regular Earnings</th>\n",
       "      <th>Overtime Earnings</th>\n",
       "      <th>\"Total Earnings\"</th>\n",
       "    </tr>\n",
       "  </thead>\n",
       "  <tbody>\n",
       "    <tr>\n",
       "      <th>0</th>\n",
       "      <td>2010</td>\n",
       "      <td>Law</td>\n",
       "      <td>Allen,Marcy E</td>\n",
       "      <td>Secretary</td>\n",
       "      <td>Excluded Personnel (Admin I)</td>\n",
       "      <td>R</td>\n",
       "      <td>F</td>\n",
       "      <td>38578.75</td>\n",
       "      <td>0.00</td>\n",
       "      <td>38578.75</td>\n",
       "    </tr>\n",
       "    <tr>\n",
       "      <th>1</th>\n",
       "      <td>2010</td>\n",
       "      <td>Health-Administration</td>\n",
       "      <td>Peeling,Carol A</td>\n",
       "      <td>Spvg Public Health Nurse</td>\n",
       "      <td>Br Admin &amp; Professional Assoc</td>\n",
       "      <td>R</td>\n",
       "      <td>P</td>\n",
       "      <td>45259.79</td>\n",
       "      <td>0.00</td>\n",
       "      <td>45259.79</td>\n",
       "    </tr>\n",
       "    <tr>\n",
       "      <th>2</th>\n",
       "      <td>2010</td>\n",
       "      <td>Health-Administration</td>\n",
       "      <td>Picciano,Cindy L</td>\n",
       "      <td>Sr Accountant</td>\n",
       "      <td>Non Union Equivalent - 07</td>\n",
       "      <td>T</td>\n",
       "      <td>P</td>\n",
       "      <td>1058.94</td>\n",
       "      <td>0.00</td>\n",
       "      <td>1058.94</td>\n",
       "    </tr>\n",
       "    <tr>\n",
       "      <th>3</th>\n",
       "      <td>2010</td>\n",
       "      <td>Health-Administration</td>\n",
       "      <td>Picciano,Cindy L</td>\n",
       "      <td>Sr Accountant</td>\n",
       "      <td>Br Admin &amp; Professional Assoc</td>\n",
       "      <td>R</td>\n",
       "      <td>F</td>\n",
       "      <td>43137.16</td>\n",
       "      <td>7.67</td>\n",
       "      <td>43144.83</td>\n",
       "    </tr>\n",
       "    <tr>\n",
       "      <th>4</th>\n",
       "      <td>2010</td>\n",
       "      <td>Health-Administration</td>\n",
       "      <td>Riese,Nadine K</td>\n",
       "      <td>Nutrition Assistant</td>\n",
       "      <td>CSEA Local 6150, Full-time</td>\n",
       "      <td>R</td>\n",
       "      <td>F</td>\n",
       "      <td>30905.73</td>\n",
       "      <td>0.00</td>\n",
       "      <td>30905.73</td>\n",
       "    </tr>\n",
       "  </tbody>\n",
       "</table>\n",
       "</div>"
      ],
      "text/plain": [
       "   Earnings Year             Department     Employee Name  \\\n",
       "0           2010                    Law     Allen,Marcy E   \n",
       "1           2010  Health-Administration   Peeling,Carol A   \n",
       "2           2010  Health-Administration  Picciano,Cindy L   \n",
       "3           2010  Health-Administration  Picciano,Cindy L   \n",
       "4           2010  Health-Administration    Riese,Nadine K   \n",
       "\n",
       "             Position Title                     Union Name  \\\n",
       "0                 Secretary   Excluded Personnel (Admin I)   \n",
       "1  Spvg Public Health Nurse  Br Admin & Professional Assoc   \n",
       "2             Sr Accountant      Non Union Equivalent - 07   \n",
       "3             Sr Accountant  Br Admin & Professional Assoc   \n",
       "4       Nutrition Assistant     CSEA Local 6150, Full-time   \n",
       "\n",
       "  Regular or Temporary Full or Part Time  Regular Earnings  Overtime Earnings  \\\n",
       "0                    R                 F          38578.75               0.00   \n",
       "1                    R                 P          45259.79               0.00   \n",
       "2                    T                 P           1058.94               0.00   \n",
       "3                    R                 F          43137.16               7.67   \n",
       "4                    R                 F          30905.73               0.00   \n",
       "\n",
       "   \"Total Earnings\"  \n",
       "0          38578.75  \n",
       "1          45259.79  \n",
       "2           1058.94  \n",
       "3          43144.83  \n",
       "4          30905.73  "
      ]
     },
     "execution_count": 6,
     "metadata": {},
     "output_type": "execute_result"
    }
   ],
   "source": [
    "df = virtual.from_format('example_virtual.csv')\n",
    "\n",
    "df.head(5)"
   ]
  },
  {
   "cell_type": "markdown",
   "metadata": {},
   "source": [
    "### Query the vanilla CSV file"
   ]
  },
  {
   "cell_type": "code",
   "execution_count": 7,
   "metadata": {},
   "outputs": [
    {
     "data": {
      "text/html": [
       "<div>\n",
       "<style scoped>\n",
       "    .dataframe tbody tr th:only-of-type {\n",
       "        vertical-align: middle;\n",
       "    }\n",
       "\n",
       "    .dataframe tbody tr th {\n",
       "        vertical-align: top;\n",
       "    }\n",
       "\n",
       "    .dataframe thead th {\n",
       "        text-align: right;\n",
       "    }\n",
       "</style>\n",
       "<table border=\"1\" class=\"dataframe\">\n",
       "  <thead>\n",
       "    <tr style=\"text-align: right;\">\n",
       "      <th></th>\n",
       "      <th>avg(\"Total Earnings\")</th>\n",
       "    </tr>\n",
       "  </thead>\n",
       "  <tbody>\n",
       "    <tr>\n",
       "      <th>0</th>\n",
       "      <td>32326.906086</td>\n",
       "    </tr>\n",
       "  </tbody>\n",
       "</table>\n",
       "</div>"
      ],
      "text/plain": [
       "   avg(\"Total Earnings\")\n",
       "0           32326.906086"
      ]
     },
     "execution_count": 7,
     "metadata": {},
     "output_type": "execute_result"
    }
   ],
   "source": [
    "import duckdb\n",
    "\n",
    "duckdb.sql('select avg(\"Total Earnings\") from read_csv(\"example.csv\")').df()"
   ]
  },
  {
   "cell_type": "markdown",
   "metadata": {},
   "source": [
    "### Query the virtualized CSV file"
   ]
  },
  {
   "cell_type": "code",
   "execution_count": 8,
   "metadata": {},
   "outputs": [
    {
     "data": {
      "text/html": [
       "<div>\n",
       "<style scoped>\n",
       "    .dataframe tbody tr th:only-of-type {\n",
       "        vertical-align: middle;\n",
       "    }\n",
       "\n",
       "    .dataframe tbody tr th {\n",
       "        vertical-align: top;\n",
       "    }\n",
       "\n",
       "    .dataframe thead th {\n",
       "        text-align: right;\n",
       "    }\n",
       "</style>\n",
       "<table border=\"1\" class=\"dataframe\">\n",
       "  <thead>\n",
       "    <tr style=\"text-align: right;\">\n",
       "      <th></th>\n",
       "      <th>avg(\"Total Earnings\")</th>\n",
       "    </tr>\n",
       "  </thead>\n",
       "  <tbody>\n",
       "    <tr>\n",
       "      <th>0</th>\n",
       "      <td>32326.906086</td>\n",
       "    </tr>\n",
       "  </tbody>\n",
       "</table>\n",
       "</div>"
      ],
      "text/plain": [
       "   avg(\"Total Earnings\")\n",
       "0           32326.906086"
      ]
     },
     "execution_count": 8,
     "metadata": {},
     "output_type": "execute_result"
    }
   ],
   "source": [
    "virtual.query(\n",
    "  'select avg(\"Total Earnings\") from read_csv(\"example_virtual.csv\")',\n",
    "  engine = 'duckdb'\n",
    ")"
   ]
  }
 ],
 "metadata": {
  "kernelspec": {
   "display_name": ".venv",
   "language": "python",
   "name": "python3"
  },
  "language_info": {
   "codemirror_mode": {
    "name": "ipython",
    "version": 3
   },
   "file_extension": ".py",
   "mimetype": "text/x-python",
   "name": "python",
   "nbconvert_exporter": "python",
   "pygments_lexer": "ipython3",
   "version": "3.13.0"
  }
 },
 "nbformat": 4,
 "nbformat_minor": 2
}
